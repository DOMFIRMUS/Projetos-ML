{
 "cells": [
  {
   "cell_type": "code",
   "execution_count": 7,
   "id": "37051edd",
   "metadata": {
    "scrolled": true
   },
   "outputs": [],
   "source": [
    "#pip install nltk"
   ]
  },
  {
   "cell_type": "code",
   "execution_count": 8,
   "id": "3be8802f",
   "metadata": {},
   "outputs": [
    {
     "name": "stderr",
     "output_type": "stream",
     "text": [
      "[nltk_data] Downloading package stopwords to\n",
      "[nltk_data]     /home/guideon/nltk_data...\n",
      "[nltk_data]   Unzipping corpora/stopwords.zip.\n"
     ]
    },
    {
     "data": {
      "text/plain": [
       "True"
      ]
     },
     "execution_count": 8,
     "metadata": {},
     "output_type": "execute_result"
    }
   ],
   "source": [
    "# Importando bibliotecas\n",
    "import nltk\n",
    "nltk.download('stopwords')#, download_dir = '/home/guideon/Projetos-ML/nltk_data')"
   ]
  },
  {
   "cell_type": "code",
   "execution_count": 9,
   "id": "ffbdc4c9",
   "metadata": {},
   "outputs": [
    {
     "data": {
      "text/plain": [
       "['a',\n",
       " 'à',\n",
       " 'ao',\n",
       " 'aos',\n",
       " 'aquela',\n",
       " 'aquelas',\n",
       " 'aquele',\n",
       " 'aqueles',\n",
       " 'aquilo',\n",
       " 'as',\n",
       " 'às',\n",
       " 'até',\n",
       " 'com',\n",
       " 'como',\n",
       " 'da',\n",
       " 'das',\n",
       " 'de',\n",
       " 'dela',\n",
       " 'delas',\n",
       " 'dele',\n",
       " 'deles',\n",
       " 'depois',\n",
       " 'do',\n",
       " 'dos',\n",
       " 'e',\n",
       " 'é',\n",
       " 'ela',\n",
       " 'elas',\n",
       " 'ele',\n",
       " 'eles',\n",
       " 'em',\n",
       " 'entre',\n",
       " 'era',\n",
       " 'eram',\n",
       " 'éramos',\n",
       " 'essa',\n",
       " 'essas',\n",
       " 'esse',\n",
       " 'esses',\n",
       " 'esta',\n",
       " 'está',\n",
       " 'estamos',\n",
       " 'estão',\n",
       " 'estar',\n",
       " 'estas',\n",
       " 'estava',\n",
       " 'estavam',\n",
       " 'estávamos',\n",
       " 'este',\n",
       " 'esteja',\n",
       " 'estejam',\n",
       " 'estejamos',\n",
       " 'estes',\n",
       " 'esteve',\n",
       " 'estive',\n",
       " 'estivemos',\n",
       " 'estiver',\n",
       " 'estivera',\n",
       " 'estiveram',\n",
       " 'estivéramos',\n",
       " 'estiverem',\n",
       " 'estivermos',\n",
       " 'estivesse',\n",
       " 'estivessem',\n",
       " 'estivéssemos',\n",
       " 'estou',\n",
       " 'eu',\n",
       " 'foi',\n",
       " 'fomos',\n",
       " 'for',\n",
       " 'fora',\n",
       " 'foram',\n",
       " 'fôramos',\n",
       " 'forem',\n",
       " 'formos',\n",
       " 'fosse',\n",
       " 'fossem',\n",
       " 'fôssemos',\n",
       " 'fui',\n",
       " 'há',\n",
       " 'haja',\n",
       " 'hajam',\n",
       " 'hajamos',\n",
       " 'hão',\n",
       " 'havemos',\n",
       " 'haver',\n",
       " 'hei',\n",
       " 'houve',\n",
       " 'houvemos',\n",
       " 'houver',\n",
       " 'houvera',\n",
       " 'houverá',\n",
       " 'houveram',\n",
       " 'houvéramos',\n",
       " 'houverão',\n",
       " 'houverei',\n",
       " 'houverem',\n",
       " 'houveremos',\n",
       " 'houveria',\n",
       " 'houveriam',\n",
       " 'houveríamos',\n",
       " 'houvermos',\n",
       " 'houvesse',\n",
       " 'houvessem',\n",
       " 'houvéssemos',\n",
       " 'isso',\n",
       " 'isto',\n",
       " 'já',\n",
       " 'lhe',\n",
       " 'lhes',\n",
       " 'mais',\n",
       " 'mas',\n",
       " 'me',\n",
       " 'mesmo',\n",
       " 'meu',\n",
       " 'meus',\n",
       " 'minha',\n",
       " 'minhas',\n",
       " 'muito',\n",
       " 'na',\n",
       " 'não',\n",
       " 'nas',\n",
       " 'nem',\n",
       " 'no',\n",
       " 'nos',\n",
       " 'nós',\n",
       " 'nossa',\n",
       " 'nossas',\n",
       " 'nosso',\n",
       " 'nossos',\n",
       " 'num',\n",
       " 'numa',\n",
       " 'o',\n",
       " 'os',\n",
       " 'ou',\n",
       " 'para',\n",
       " 'pela',\n",
       " 'pelas',\n",
       " 'pelo',\n",
       " 'pelos',\n",
       " 'por',\n",
       " 'qual',\n",
       " 'quando',\n",
       " 'que',\n",
       " 'quem',\n",
       " 'são',\n",
       " 'se',\n",
       " 'seja',\n",
       " 'sejam',\n",
       " 'sejamos',\n",
       " 'sem',\n",
       " 'ser',\n",
       " 'será',\n",
       " 'serão',\n",
       " 'serei',\n",
       " 'seremos',\n",
       " 'seria',\n",
       " 'seriam',\n",
       " 'seríamos',\n",
       " 'seu',\n",
       " 'seus',\n",
       " 'só',\n",
       " 'somos',\n",
       " 'sou',\n",
       " 'sua',\n",
       " 'suas',\n",
       " 'também',\n",
       " 'te',\n",
       " 'tem',\n",
       " 'tém',\n",
       " 'temos',\n",
       " 'tenha',\n",
       " 'tenham',\n",
       " 'tenhamos',\n",
       " 'tenho',\n",
       " 'terá',\n",
       " 'terão',\n",
       " 'terei',\n",
       " 'teremos',\n",
       " 'teria',\n",
       " 'teriam',\n",
       " 'teríamos',\n",
       " 'teu',\n",
       " 'teus',\n",
       " 'teve',\n",
       " 'tinha',\n",
       " 'tinham',\n",
       " 'tínhamos',\n",
       " 'tive',\n",
       " 'tivemos',\n",
       " 'tiver',\n",
       " 'tivera',\n",
       " 'tiveram',\n",
       " 'tivéramos',\n",
       " 'tiverem',\n",
       " 'tivermos',\n",
       " 'tivesse',\n",
       " 'tivessem',\n",
       " 'tivéssemos',\n",
       " 'tu',\n",
       " 'tua',\n",
       " 'tuas',\n",
       " 'um',\n",
       " 'uma',\n",
       " 'você',\n",
       " 'vocês',\n",
       " 'vos']"
      ]
     },
     "execution_count": 9,
     "metadata": {},
     "output_type": "execute_result"
    }
   ],
   "source": [
    "# Configurando stopwords nacionais\n",
    "Lista_palavras = nltk.corpus.stopwords.words('portuguese')\n",
    "Lista_palavras"
   ]
  },
  {
   "cell_type": "code",
   "execution_count": 10,
   "id": "6c08aae3",
   "metadata": {},
   "outputs": [
    {
     "name": "stdout",
     "output_type": "stream",
     "text": [
      "['a', 'à', 'ao', 'aos', 'aquela', 'aquelas', 'aquele', 'aqueles', 'aquilo', 'as']\n"
     ]
    }
   ],
   "source": [
    "# Verificando as 10 primeiras\n",
    "print(Lista_palavras[:10])"
   ]
  },
  {
   "cell_type": "code",
   "execution_count": 11,
   "id": "ac7694a6",
   "metadata": {},
   "outputs": [
    {
     "name": "stdout",
     "output_type": "stream",
     "text": [
      "temos 207 palavras.\n",
      "\n"
     ]
    }
   ],
   "source": [
    "# Quantidade de stopwords \n",
    "print(f'temos {len(Lista_palavras)} palavras.\\n')"
   ]
  },
  {
   "cell_type": "code",
   "execution_count": 12,
   "id": "83875e0e",
   "metadata": {},
   "outputs": [],
   "source": [
    "# Exemplo de frase\n",
    "Frase = '''Talvez a afirmativa esp ̇ria mais famosa e prodigiosa diga respeito\n",
    "aos canais de Marte. Observados pela primeira vez em 1877, foram\n",
    "aparentemente confirmados por uma sÈrie de astrÙnomos profissionais\n",
    "dedicados que os viram por meio de grandes telescÛpios em todo o mundo.\n",
    "Relatou-se a existÍncia de uma rede de linhas retas simples e duplas\n",
    "entrecruzando-se pela superfÌcie marciana, e com uma regularidade\n",
    "geomÈtrica t„o fant·stica que sÛ podiam ter origem inteligente. Tiraram-se\n",
    "conclusıes imaginativas sobre um planeta crestado e moribundo, povoado\n",
    "por uma civilizaÁ„o tÈcnica mais antiga e mais s·bia que se dedicava ‡\n",
    "conservaÁ„o dos recursos hÌdricos. Centenas de canais foram mapeados e\n",
    "nomeados. Mas, estranhamente, eles evitavam aparecer nas fotografias.\n",
    "Sugeriu-se que o olho humano podia se lembrar dos breves instantes de\n",
    "transparÍncia atmosfÈrica perfeita, enquanto a l‚mina fotogr·fica\n",
    "indiscriminadora igualava os poucos momentos claros aos muitos indistintos.\n",
    "Alguns astrÙnomos viam os canais. Muitos n„o conseguiam ver. Talvez\n",
    "certos observadores tivessem mais talento para ver canais. Ou talvez toda a\n",
    "histÛria fosse algum tipo de engano perceptivo.'''"
   ]
  },
  {
   "cell_type": "code",
   "execution_count": 13,
   "id": "a74754a8",
   "metadata": {},
   "outputs": [],
   "source": [
    "# Somar palavras retiradas \n",
    "Palavras_retiradas = 0"
   ]
  },
  {
   "cell_type": "code",
   "execution_count": 14,
   "id": "086029d6",
   "metadata": {},
   "outputs": [
    {
     "data": {
      "text/plain": [
       "170"
      ]
     },
     "execution_count": 14,
     "metadata": {},
     "output_type": "execute_result"
    }
   ],
   "source": [
    "# Calculando total de palavras na nossa frase \n",
    "Palavras_totais = len(Frase.split())\n",
    "Palavras_totais"
   ]
  },
  {
   "cell_type": "code",
   "execution_count": 15,
   "id": "04c45a0b",
   "metadata": {},
   "outputs": [],
   "source": [
    "# Nova frase construída\n",
    "Nova_frase = ''"
   ]
  },
  {
   "cell_type": "code",
   "execution_count": 16,
   "id": "a3f4c41c",
   "metadata": {},
   "outputs": [],
   "source": [
    "# Retirar stopwords\n",
    "for Palavra in Frase.split():\n",
    "    # Caso a palavra não esteja na lista\n",
    "    if Palavra not in Lista_palavras:\n",
    "        Nova_frase = Nova_frase + ' ' + Palavra\n",
    "    else:\n",
    "        # Contar quantas palavras foram retiradas\n",
    "        Palavras_retiradas += 1"
   ]
  },
  {
   "cell_type": "code",
   "execution_count": 17,
   "id": "e11556d7",
   "metadata": {},
   "outputs": [
    {
     "name": "stdout",
     "output_type": "stream",
     "text": [
      "Frase tinha 170 palavras, agora a frase possuí 113\n"
     ]
    }
   ],
   "source": [
    "# Verificar os resultados desenvolvidos\n",
    "print(f'Frase tinha {len(Frase.split())} palavras, agora a frase possuí {len(Nova_frase.split())}')"
   ]
  },
  {
   "cell_type": "code",
   "execution_count": 18,
   "id": "f6a726b2",
   "metadata": {},
   "outputs": [
    {
     "data": {
      "text/plain": [
       "'Talvez a afirmativa esp ̇ria mais famosa e prodigiosa diga respeito\\naos canais de Marte. Observados pela primeira vez em 1877, foram\\naparentemente confirmados por uma sÈrie de astrÙnomos profissionais\\ndedicados que os viram por meio de grandes telescÛpios em todo o mundo.\\nRelatou-se a existÍncia de uma rede de linhas retas simples e duplas\\nentrecruzando-se pela superfÌcie marciana, e com uma regularidade\\ngeomÈtrica t„o fant·stica que sÛ podiam ter origem inteligente. Tiraram-se\\nconclusıes imaginativas sobre um planeta crestado e moribundo, povoado\\npor uma civilizaÁ„o tÈcnica mais antiga e mais s·bia que se dedicava ‡\\nconservaÁ„o dos recursos hÌdricos. Centenas de canais foram mapeados e\\nnomeados. Mas, estranhamente, eles evitavam aparecer nas fotografias.\\nSugeriu-se que o olho humano podia se lembrar dos breves instantes de\\ntransparÍncia atmosfÈrica perfeita, enquanto a l‚mina fotogr·fica\\nindiscriminadora igualava os poucos momentos claros aos muitos indistintos.\\nAlguns astrÙnomos viam os canais. Muitos n„o conseguiam ver. Talvez\\ncertos observadores tivessem mais talento para ver canais. Ou talvez toda a\\nhistÛria fosse algum tipo de engano perceptivo.'"
      ]
     },
     "execution_count": 18,
     "metadata": {},
     "output_type": "execute_result"
    }
   ],
   "source": [
    "Frase"
   ]
  },
  {
   "cell_type": "code",
   "execution_count": 19,
   "id": "55b93836",
   "metadata": {},
   "outputs": [
    {
     "data": {
      "text/plain": [
       "' Talvez afirmativa esp ̇ria famosa prodigiosa diga respeito canais Marte. Observados primeira vez 1877, aparentemente confirmados sÈrie astrÙnomos profissionais dedicados viram meio grandes telescÛpios todo mundo. Relatou-se existÍncia rede linhas retas simples duplas entrecruzando-se superfÌcie marciana, regularidade geomÈtrica t„o fant·stica sÛ podiam ter origem inteligente. Tiraram-se conclusıes imaginativas sobre planeta crestado moribundo, povoado civilizaÁ„o tÈcnica antiga s·bia dedicava ‡ conservaÁ„o recursos hÌdricos. Centenas canais mapeados nomeados. Mas, estranhamente, evitavam aparecer fotografias. Sugeriu-se olho humano podia lembrar breves instantes transparÍncia atmosfÈrica perfeita, enquanto l‚mina fotogr·fica indiscriminadora igualava poucos momentos claros muitos indistintos. Alguns astrÙnomos viam canais. Muitos n„o conseguiam ver. Talvez certos observadores talento ver canais. Ou talvez toda histÛria algum tipo engano perceptivo.'"
      ]
     },
     "execution_count": 19,
     "metadata": {},
     "output_type": "execute_result"
    }
   ],
   "source": [
    "Nova_frase"
   ]
  }
 ],
 "metadata": {
  "kernelspec": {
   "display_name": "Python 3 (ipykernel)",
   "language": "python",
   "name": "python3"
  },
  "language_info": {
   "codemirror_mode": {
    "name": "ipython",
    "version": 3
   },
   "file_extension": ".py",
   "mimetype": "text/x-python",
   "name": "python",
   "nbconvert_exporter": "python",
   "pygments_lexer": "ipython3",
   "version": "3.11.0"
  }
 },
 "nbformat": 4,
 "nbformat_minor": 5
}
