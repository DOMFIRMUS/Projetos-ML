{
 "cells": [
  {
   "cell_type": "code",
   "execution_count": 1,
   "id": "343dad80-d78b-440f-ab85-b89bf9a5d62a",
   "metadata": {},
   "outputs": [],
   "source": [
    "# Lib para Modelagem de dados\n",
    "import pandas as pd\n",
    "import numpy as np"
   ]
  },
  {
   "cell_type": "code",
   "execution_count": 2,
   "id": "91197807-64b7-4b52-a113-e9b5dd31d9e6",
   "metadata": {},
   "outputs": [],
   "source": [
    "# Lib para analises gráficas\n",
    "import seaborn as sns\n",
    "import matplotlib.pyplot as plt"
   ]
  },
  {
   "cell_type": "code",
   "execution_count": 3,
   "id": "38969028-6415-4428-b2e4-60ed0bee6cab",
   "metadata": {},
   "outputs": [],
   "source": [
    "# Base de Dados do Iris\n",
    "Base_Dados = sns.load_dataset('iris')"
   ]
  },
  {
   "cell_type": "code",
   "execution_count": 4,
   "id": "6147392d-36d9-435c-be23-d36c9b568683",
   "metadata": {},
   "outputs": [
    {
     "data": {
      "text/html": [
       "<div>\n",
       "<style scoped>\n",
       "    .dataframe tbody tr th:only-of-type {\n",
       "        vertical-align: middle;\n",
       "    }\n",
       "\n",
       "    .dataframe tbody tr th {\n",
       "        vertical-align: top;\n",
       "    }\n",
       "\n",
       "    .dataframe thead th {\n",
       "        text-align: right;\n",
       "    }\n",
       "</style>\n",
       "<table border=\"1\" class=\"dataframe\">\n",
       "  <thead>\n",
       "    <tr style=\"text-align: right;\">\n",
       "      <th></th>\n",
       "      <th>sepal_length</th>\n",
       "      <th>sepal_width</th>\n",
       "      <th>petal_length</th>\n",
       "      <th>petal_width</th>\n",
       "      <th>species</th>\n",
       "    </tr>\n",
       "  </thead>\n",
       "  <tbody>\n",
       "    <tr>\n",
       "      <th>0</th>\n",
       "      <td>5.1</td>\n",
       "      <td>3.5</td>\n",
       "      <td>1.4</td>\n",
       "      <td>0.2</td>\n",
       "      <td>setosa</td>\n",
       "    </tr>\n",
       "    <tr>\n",
       "      <th>1</th>\n",
       "      <td>4.9</td>\n",
       "      <td>3.0</td>\n",
       "      <td>1.4</td>\n",
       "      <td>0.2</td>\n",
       "      <td>setosa</td>\n",
       "    </tr>\n",
       "    <tr>\n",
       "      <th>2</th>\n",
       "      <td>4.7</td>\n",
       "      <td>3.2</td>\n",
       "      <td>1.3</td>\n",
       "      <td>0.2</td>\n",
       "      <td>setosa</td>\n",
       "    </tr>\n",
       "    <tr>\n",
       "      <th>3</th>\n",
       "      <td>4.6</td>\n",
       "      <td>3.1</td>\n",
       "      <td>1.5</td>\n",
       "      <td>0.2</td>\n",
       "      <td>setosa</td>\n",
       "    </tr>\n",
       "    <tr>\n",
       "      <th>4</th>\n",
       "      <td>5.0</td>\n",
       "      <td>3.6</td>\n",
       "      <td>1.4</td>\n",
       "      <td>0.2</td>\n",
       "      <td>setosa</td>\n",
       "    </tr>\n",
       "  </tbody>\n",
       "</table>\n",
       "</div>"
      ],
      "text/plain": [
       "   sepal_length  sepal_width  petal_length  petal_width species\n",
       "0           5.1          3.5           1.4          0.2  setosa\n",
       "1           4.9          3.0           1.4          0.2  setosa\n",
       "2           4.7          3.2           1.3          0.2  setosa\n",
       "3           4.6          3.1           1.5          0.2  setosa\n",
       "4           5.0          3.6           1.4          0.2  setosa"
      ]
     },
     "execution_count": 4,
     "metadata": {},
     "output_type": "execute_result"
    }
   ],
   "source": [
    "# Verificando\n",
    "Base_Dados.head()"
   ]
  },
  {
   "cell_type": "code",
   "execution_count": 5,
   "id": "c15fb201-a7e2-4d2b-a753-568613ea913b",
   "metadata": {},
   "outputs": [],
   "source": [
    "# Importar a função do chi\n",
    "from sklearn.feature_selection import chi2"
   ]
  },
  {
   "cell_type": "code",
   "execution_count": 6,
   "id": "e50cf236-57b6-4ad4-a6c9-649c5c29729c",
   "metadata": {},
   "outputs": [],
   "source": [
    "# Seprar os dadoos\n",
    "Eixo_X = Base_Dados.drop('species',axis=1)\n",
    "Eixo_Y = Base_Dados['species']"
   ]
  },
  {
   "cell_type": "code",
   "execution_count": 7,
   "id": "7ebeb710-41db-46b5-b35e-62abd9c284a0",
   "metadata": {},
   "outputs": [],
   "source": [
    "# Aplicar\n",
    "Scores_CHI = chi2(Eixo_X, Eixo_Y)"
   ]
  },
  {
   "cell_type": "code",
   "execution_count": 8,
   "id": "776a31ce-959c-41c9-9bf1-e188f4b44068",
   "metadata": {},
   "outputs": [],
   "source": [
    "# Verificando\n",
    "Valores = Scores_CHI[0]\n",
    "P_Valor = Scores_CHI[1]"
   ]
  },
  {
   "cell_type": "code",
   "execution_count": 9,
   "id": "921c071b-cc45-43ce-91b6-2585a5f6b7e3",
   "metadata": {},
   "outputs": [
    {
     "name": "stdout",
     "output_type": "stream",
     "text": [
      "[ 10.81782088   3.7107283  116.31261309  67.0483602 ]\n"
     ]
    }
   ],
   "source": [
    "print(Valores)"
   ]
  },
  {
   "cell_type": "code",
   "execution_count": 10,
   "id": "a7867d40-a057-4427-ada0-892b36568c6f",
   "metadata": {},
   "outputs": [
    {
     "name": "stdout",
     "output_type": "stream",
     "text": [
      "[4.47651499e-03 1.56395980e-01 5.53397228e-26 2.75824965e-15]\n"
     ]
    }
   ],
   "source": [
    "print(P_Valor)"
   ]
  },
  {
   "cell_type": "code",
   "execution_count": 11,
   "id": "2f5c21e9-5615-4bcc-ab08-b86fef4c7614",
   "metadata": {},
   "outputs": [],
   "source": [
    "# Ajustar os dados\n",
    "Dados_P_Value = pd.Series(P_Valor, index=Eixo_X.columns)"
   ]
  },
  {
   "cell_type": "code",
   "execution_count": 12,
   "id": "e7a535ac-5b17-41f0-9817-8ac2b5422c89",
   "metadata": {},
   "outputs": [],
   "source": [
    "# Ordenar\n",
    "Dados_P_Value.sort_values(ascending=False , inplace=True)"
   ]
  },
  {
   "cell_type": "code",
   "execution_count": 13,
   "id": "850530b3-a006-4f48-b44b-ccec88220a11",
   "metadata": {},
   "outputs": [
    {
     "data": {
      "text/plain": [
       "<BarContainer object of 4 artists>"
      ]
     },
     "execution_count": 13,
     "metadata": {},
     "output_type": "execute_result"
    },
    {
     "data": {
      "image/png": "[encoded data removed]",
      "text/plain": [
       "<Figure size 640x480 with 1 Axes>"
      ]
     },
     "metadata": {},
     "output_type": "display_data"
    }
   ],
   "source": [
    "# Plot para analisar\n",
    "plt.title('Analisando o P-Valor')\n",
    "plt.bar( Dados_P_Value.index, Dados_P_Value.values, width=0.5 )"
   ]
  },
  {
   "cell_type": "code",
   "execution_count": null,
   "id": "55d31dea-8049-4c90-90b5-130430d8ed01",
   "metadata": {},
   "outputs": [],
   "source": []
  }
 ],
 "metadata": {
  "kernelspec": {
   "display_name": "Python 3 (ipykernel)",
   "language": "python",
   "name": "python3"
  },
  "language_info": {
   "codemirror_mode": {
    "name": "ipython",
    "version": 3
   },
   "file_extension": ".py",
   "mimetype": "text/x-python",
   "name": "python",
   "nbconvert_exporter": "python",
   "pygments_lexer": "ipython3",
   "version": "3.11.6"
  }
 },
 "nbformat": 4,
 "nbformat_minor": 5
}
