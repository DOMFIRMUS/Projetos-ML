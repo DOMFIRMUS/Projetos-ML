{
 "cells": [
  {
   "cell_type": "code",
   "execution_count": 1,
   "id": "2090fef7",
   "metadata": {},
   "outputs": [],
   "source": [
    "from random import randint"
   ]
  },
  {
   "cell_type": "code",
   "execution_count": 2,
   "id": "1f66b13b",
   "metadata": {},
   "outputs": [],
   "source": [
    "jogo = list()\n",
    "jogos = list()\n",
    "n = 0"
   ]
  },
  {
   "cell_type": "code",
   "execution_count": 3,
   "id": "26563caf",
   "metadata": {},
   "outputs": [
    {
     "name": "stdout",
     "output_type": "stream",
     "text": [
      "================================\n",
      "Mega Sena\n",
      "================================\n"
     ]
    }
   ],
   "source": [
    "print('='*32)\n",
    "print('Mega Sena')\n",
    "print('='*32)"
   ]
  },
  {
   "cell_type": "code",
   "execution_count": 4,
   "id": "5822fcc3",
   "metadata": {},
   "outputs": [
    {
     "name": "stdout",
     "output_type": "stream",
     "text": [
      "Quantos jogos você comprou? : 6\n",
      "================================\n"
     ]
    }
   ],
   "source": [
    "n = int(input('Quantos jogos você comprou? : '))\n",
    "print('='*32)"
   ]
  },
  {
   "cell_type": "code",
   "execution_count": 5,
   "id": "96653ad4",
   "metadata": {},
   "outputs": [],
   "source": [
    "# Geração dos números\n",
    "for c in range(n):\n",
    "    while True:\n",
    "        v = randint(1,60)\n",
    "        if v not in jogo:\n",
    "            jogo.append(v)\n",
    "        if 6 == len(jogo):\n",
    "            break\n",
    "    jogo.sort()\n",
    "    jogos.append(jogo[:])\n",
    "    jogo.clear()"
   ]
  },
  {
   "cell_type": "code",
   "execution_count": 6,
   "id": "1d1c54d1",
   "metadata": {},
   "outputs": [
    {
     "name": "stdout",
     "output_type": "stream",
     "text": [
      "================================\n",
      "Jogo 1: [8, 16, 28, 30, 35, 42]\n",
      "Jogo 2: [5, 10, 17, 21, 30, 37]\n",
      "Jogo 3: [2, 9, 28, 34, 39, 51]\n",
      "Jogo 4: [3, 14, 16, 20, 25, 37]\n",
      "Jogo 5: [4, 13, 24, 28, 30, 59]\n",
      "Jogo 6: [5, 8, 19, 32, 36, 40]\n",
      "================================\n",
      "========= Boa Sorte =) =========\n"
     ]
    }
   ],
   "source": [
    "# Nesse bloco serão mostrados os possível jogos:\n",
    "print('='*32)\n",
    "for x in range(n):\n",
    "    print(f'Jogo {x+1}: {jogos[x]}')\n",
    "print('='*32)\n",
    "print('='*9,'Boa Sorte =)','='*9)"
   ]
  }
 ],
 "metadata": {
  "kernelspec": {
   "display_name": "Python 3 (ipykernel)",
   "language": "python",
   "name": "python3"
  },
  "language_info": {
   "codemirror_mode": {
    "name": "ipython",
    "version": 3
   },
   "file_extension": ".py",
   "mimetype": "text/x-python",
   "name": "python",
   "nbconvert_exporter": "python",
   "pygments_lexer": "ipython3",
   "version": "3.11.0"
  }
 },
 "nbformat": 4,
 "nbformat_minor": 5
}
