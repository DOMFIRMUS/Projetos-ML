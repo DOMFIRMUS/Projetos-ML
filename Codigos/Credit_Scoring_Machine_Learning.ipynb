{
 "cells": [
  {
   "cell_type": "code",
   "execution_count": 2,
   "id": "19a1b4f5-b723-4e66-b057-e96ddb81f87b",
   "metadata": {},
   "outputs": [
    {
     "data": {
      "text/html": [
       "<div>\n",
       "<style scoped>\n",
       "    .dataframe tbody tr th:only-of-type {\n",
       "        vertical-align: middle;\n",
       "    }\n",
       "\n",
       "    .dataframe tbody tr th {\n",
       "        vertical-align: top;\n",
       "    }\n",
       "\n",
       "    .dataframe thead th {\n",
       "        text-align: right;\n",
       "    }\n",
       "</style>\n",
       "<table border=\"1\" class=\"dataframe\">\n",
       "  <thead>\n",
       "    <tr style=\"text-align: right;\">\n",
       "      <th></th>\n",
       "      <th>tp_sexo</th>\n",
       "      <th>uf</th>\n",
       "      <th>status_civil</th>\n",
       "      <th>n_dependentes</th>\n",
       "      <th>casa_propria</th>\n",
       "    </tr>\n",
       "    <tr>\n",
       "      <th>id</th>\n",
       "      <th></th>\n",
       "      <th></th>\n",
       "      <th></th>\n",
       "      <th></th>\n",
       "      <th></th>\n",
       "    </tr>\n",
       "  </thead>\n",
       "  <tbody>\n",
       "    <tr>\n",
       "      <th>8927457</th>\n",
       "      <td>M</td>\n",
       "      <td>SP</td>\n",
       "      <td>SOLTEIRO</td>\n",
       "      <td>0</td>\n",
       "      <td>1</td>\n",
       "    </tr>\n",
       "    <tr>\n",
       "      <th>22009007</th>\n",
       "      <td>M</td>\n",
       "      <td>SP</td>\n",
       "      <td>SOLTEIRO</td>\n",
       "      <td>0</td>\n",
       "      <td>0</td>\n",
       "    </tr>\n",
       "    <tr>\n",
       "      <th>30794041</th>\n",
       "      <td>F</td>\n",
       "      <td>SP</td>\n",
       "      <td>SOLTEIRO</td>\n",
       "      <td>0</td>\n",
       "      <td>0</td>\n",
       "    </tr>\n",
       "    <tr>\n",
       "      <th>13342495</th>\n",
       "      <td>M</td>\n",
       "      <td>RJ</td>\n",
       "      <td>SOLTEIRO</td>\n",
       "      <td>0</td>\n",
       "      <td>0</td>\n",
       "    </tr>\n",
       "    <tr>\n",
       "      <th>73110407</th>\n",
       "      <td>M</td>\n",
       "      <td>SP</td>\n",
       "      <td>C</td>\n",
       "      <td>0</td>\n",
       "      <td>1</td>\n",
       "    </tr>\n",
       "  </tbody>\n",
       "</table>\n",
       "</div>"
      ],
      "text/plain": [
       "         tp_sexo  uf status_civil  n_dependentes  casa_propria\n",
       "id                                                            \n",
       "8927457        M  SP     SOLTEIRO              0             1\n",
       "22009007       M  SP     SOLTEIRO              0             0\n",
       "30794041       F  SP     SOLTEIRO              0             0\n",
       "13342495       M  RJ     SOLTEIRO              0             0\n",
       "73110407       M  SP            C              0             1"
      ]
     },
     "execution_count": 2,
     "metadata": {},
     "output_type": "execute_result"
    }
   ],
   "source": [
    "# Importando libs\n",
    "import pandas as pd\n",
    "import pickle\n",
    "import numpy as np\n",
    "import matplotlib.pyplot as plt\n",
    "import seaborn as sns\n",
    "from sklearn.model_selection import train_test_split, cross_validate, StratifiedKFold, RandomizedSearchCV\n",
    "from sklearn.preprocessing import MinMaxScaler\n",
    "from sklearn.ensemble import RandomForestClassifier\n",
    "from sklearn.linear_model import LogisticRegression\n",
    "from sklearn.tree import DecisionTreeClassifier\n",
    "from sklearn.metrics import roc_auc_score\n",
    "import warnings\n",
    "warnings.filterwarnings('ignore')\n",
    "tb_job = pd.read_csv('/home/whitehat000142/Documents/Repositorios/Projetos-ML/Dados/tb_job.csv').set_index('id')\n",
    "tb_cadastro = pd.read_csv('/home/whitehat000142/Documents/Repositorios/Projetos-ML/Dados/tb_cadastro.csv').set_index('id')\n",
    "tb_atraso = pd.read_csv('/home/whitehat000142/Documents/Repositorios/Projetos-ML/Dados/tb_atraso.csv').set_index('id')\n",
    "tb_cadastro.head()"
   ]
  },
  {
   "cell_type": "code",
   "execution_count": 3,
   "id": "e3df4d83-be5a-4e9e-8ffe-e0f155fd435e",
   "metadata": {},
   "outputs": [
    {
     "data": {
      "text/html": [
       "<div>\n",
       "<style scoped>\n",
       "    .dataframe tbody tr th:only-of-type {\n",
       "        vertical-align: middle;\n",
       "    }\n",
       "\n",
       "    .dataframe tbody tr th {\n",
       "        vertical-align: top;\n",
       "    }\n",
       "\n",
       "    .dataframe thead th {\n",
       "        text-align: right;\n",
       "    }\n",
       "</style>\n",
       "<table border=\"1\" class=\"dataframe\">\n",
       "  <thead>\n",
       "    <tr style=\"text-align: right;\">\n",
       "      <th></th>\n",
       "      <th>escolaridade</th>\n",
       "      <th>tempo_empregado</th>\n",
       "      <th>modelo_renda_v2</th>\n",
       "      <th>classe_renda_inf</th>\n",
       "    </tr>\n",
       "    <tr>\n",
       "      <th>id</th>\n",
       "      <th></th>\n",
       "      <th></th>\n",
       "      <th></th>\n",
       "      <th></th>\n",
       "    </tr>\n",
       "  </thead>\n",
       "  <tbody>\n",
       "    <tr>\n",
       "      <th>42543947</th>\n",
       "      <td>Ensino Fundamental</td>\n",
       "      <td>9</td>\n",
       "      <td>1517</td>\n",
       "      <td>B</td>\n",
       "    </tr>\n",
       "    <tr>\n",
       "      <th>49524184</th>\n",
       "      <td>Ensino Fundamental</td>\n",
       "      <td>9</td>\n",
       "      <td>1654</td>\n",
       "      <td>B</td>\n",
       "    </tr>\n",
       "    <tr>\n",
       "      <th>29697248</th>\n",
       "      <td>Ensino Superior</td>\n",
       "      <td>5</td>\n",
       "      <td>1468</td>\n",
       "      <td>A</td>\n",
       "    </tr>\n",
       "    <tr>\n",
       "      <th>61147127</th>\n",
       "      <td>Ensino Fundamental</td>\n",
       "      <td>4</td>\n",
       "      <td>1535</td>\n",
       "      <td>B</td>\n",
       "    </tr>\n",
       "    <tr>\n",
       "      <th>25601658</th>\n",
       "      <td>Ensino Médio</td>\n",
       "      <td>14</td>\n",
       "      <td>1399</td>\n",
       "      <td>A</td>\n",
       "    </tr>\n",
       "  </tbody>\n",
       "</table>\n",
       "</div>"
      ],
      "text/plain": [
       "                escolaridade  tempo_empregado  modelo_renda_v2  \\\n",
       "id                                                               \n",
       "42543947  Ensino Fundamental                9             1517   \n",
       "49524184  Ensino Fundamental                9             1654   \n",
       "29697248     Ensino Superior                5             1468   \n",
       "61147127  Ensino Fundamental                4             1535   \n",
       "25601658        Ensino Médio               14             1399   \n",
       "\n",
       "         classe_renda_inf  \n",
       "id                         \n",
       "42543947                B  \n",
       "49524184                B  \n",
       "29697248                A  \n",
       "61147127                B  \n",
       "25601658                A  "
      ]
     },
     "execution_count": 3,
     "metadata": {},
     "output_type": "execute_result"
    }
   ],
   "source": [
    "tb_job.head()"
   ]
  },
  {
   "cell_type": "code",
   "execution_count": 4,
   "id": "b5a23482-b055-4fc7-8e09-bd8088cb3893",
   "metadata": {},
   "outputs": [
    {
     "data": {
      "text/html": [
       "<div>\n",
       "<style scoped>\n",
       "    .dataframe tbody tr th:only-of-type {\n",
       "        vertical-align: middle;\n",
       "    }\n",
       "\n",
       "    .dataframe tbody tr th {\n",
       "        vertical-align: top;\n",
       "    }\n",
       "\n",
       "    .dataframe thead th {\n",
       "        text-align: right;\n",
       "    }\n",
       "</style>\n",
       "<table border=\"1\" class=\"dataframe\">\n",
       "  <thead>\n",
       "    <tr style=\"text-align: right;\">\n",
       "      <th></th>\n",
       "      <th>max_dias_atraso_6m</th>\n",
       "      <th>programa_reneg</th>\n",
       "    </tr>\n",
       "    <tr>\n",
       "      <th>id</th>\n",
       "      <th></th>\n",
       "      <th></th>\n",
       "    </tr>\n",
       "  </thead>\n",
       "  <tbody>\n",
       "    <tr>\n",
       "      <th>59692101</th>\n",
       "      <td>59</td>\n",
       "      <td>NÃO</td>\n",
       "    </tr>\n",
       "    <tr>\n",
       "      <th>3621563</th>\n",
       "      <td>64</td>\n",
       "      <td>NÃO</td>\n",
       "    </tr>\n",
       "    <tr>\n",
       "      <th>17013828</th>\n",
       "      <td>71</td>\n",
       "      <td>SIM</td>\n",
       "    </tr>\n",
       "    <tr>\n",
       "      <th>56633600</th>\n",
       "      <td>52</td>\n",
       "      <td>NÃO</td>\n",
       "    </tr>\n",
       "    <tr>\n",
       "      <th>34502897</th>\n",
       "      <td>56</td>\n",
       "      <td>NÃO</td>\n",
       "    </tr>\n",
       "  </tbody>\n",
       "</table>\n",
       "</div>"
      ],
      "text/plain": [
       "          max_dias_atraso_6m programa_reneg\n",
       "id                                         \n",
       "59692101                  59            NÃO\n",
       "3621563                   64            NÃO\n",
       "17013828                  71            SIM\n",
       "56633600                  52            NÃO\n",
       "34502897                  56            NÃO"
      ]
     },
     "execution_count": 4,
     "metadata": {},
     "output_type": "execute_result"
    }
   ],
   "source": [
    "tb_atraso.head()"
   ]
  },
  {
   "cell_type": "code",
   "execution_count": 5,
   "id": "9253287c-b206-47ad-a498-43aec4f2bcc5",
   "metadata": {},
   "outputs": [
    {
     "data": {
      "text/html": [
       "<div>\n",
       "<style scoped>\n",
       "    .dataframe tbody tr th:only-of-type {\n",
       "        vertical-align: middle;\n",
       "    }\n",
       "\n",
       "    .dataframe tbody tr th {\n",
       "        vertical-align: top;\n",
       "    }\n",
       "\n",
       "    .dataframe thead th {\n",
       "        text-align: right;\n",
       "    }\n",
       "</style>\n",
       "<table border=\"1\" class=\"dataframe\">\n",
       "  <thead>\n",
       "    <tr style=\"text-align: right;\">\n",
       "      <th></th>\n",
       "      <th>escolaridade</th>\n",
       "      <th>tempo_empregado</th>\n",
       "      <th>modelo_renda_v2</th>\n",
       "      <th>classe_renda_inf</th>\n",
       "      <th>tp_sexo</th>\n",
       "      <th>uf</th>\n",
       "      <th>status_civil</th>\n",
       "      <th>n_dependentes</th>\n",
       "      <th>casa_propria</th>\n",
       "      <th>max_dias_atraso_6m</th>\n",
       "      <th>programa_reneg</th>\n",
       "    </tr>\n",
       "    <tr>\n",
       "      <th>id</th>\n",
       "      <th></th>\n",
       "      <th></th>\n",
       "      <th></th>\n",
       "      <th></th>\n",
       "      <th></th>\n",
       "      <th></th>\n",
       "      <th></th>\n",
       "      <th></th>\n",
       "      <th></th>\n",
       "      <th></th>\n",
       "      <th></th>\n",
       "    </tr>\n",
       "  </thead>\n",
       "  <tbody>\n",
       "    <tr>\n",
       "      <th>42543947</th>\n",
       "      <td>Ensino Fundamental</td>\n",
       "      <td>9</td>\n",
       "      <td>1517</td>\n",
       "      <td>B</td>\n",
       "      <td>M</td>\n",
       "      <td>SP</td>\n",
       "      <td>CASADO</td>\n",
       "      <td>0</td>\n",
       "      <td>1</td>\n",
       "      <td>62</td>\n",
       "      <td>NÃO</td>\n",
       "    </tr>\n",
       "    <tr>\n",
       "      <th>49524184</th>\n",
       "      <td>Ensino Fundamental</td>\n",
       "      <td>9</td>\n",
       "      <td>1654</td>\n",
       "      <td>B</td>\n",
       "      <td>F</td>\n",
       "      <td>SP</td>\n",
       "      <td>CASADO</td>\n",
       "      <td>0</td>\n",
       "      <td>1</td>\n",
       "      <td>56</td>\n",
       "      <td>NÃO</td>\n",
       "    </tr>\n",
       "    <tr>\n",
       "      <th>29697248</th>\n",
       "      <td>Ensino Superior</td>\n",
       "      <td>5</td>\n",
       "      <td>1468</td>\n",
       "      <td>A</td>\n",
       "      <td>M</td>\n",
       "      <td>SP</td>\n",
       "      <td>CASADO</td>\n",
       "      <td>0</td>\n",
       "      <td>1</td>\n",
       "      <td>63</td>\n",
       "      <td>NÃO</td>\n",
       "    </tr>\n",
       "    <tr>\n",
       "      <th>61147127</th>\n",
       "      <td>Ensino Fundamental</td>\n",
       "      <td>4</td>\n",
       "      <td>1535</td>\n",
       "      <td>B</td>\n",
       "      <td>F</td>\n",
       "      <td>SP</td>\n",
       "      <td>SOLTEIRO</td>\n",
       "      <td>3</td>\n",
       "      <td>0</td>\n",
       "      <td>66</td>\n",
       "      <td>NÃO</td>\n",
       "    </tr>\n",
       "    <tr>\n",
       "      <th>25601658</th>\n",
       "      <td>Ensino Médio</td>\n",
       "      <td>14</td>\n",
       "      <td>1399</td>\n",
       "      <td>A</td>\n",
       "      <td>F</td>\n",
       "      <td>RJ</td>\n",
       "      <td>SOLTEIRO</td>\n",
       "      <td>0</td>\n",
       "      <td>0</td>\n",
       "      <td>64</td>\n",
       "      <td>NÃO</td>\n",
       "    </tr>\n",
       "  </tbody>\n",
       "</table>\n",
       "</div>"
      ],
      "text/plain": [
       "                escolaridade  tempo_empregado  modelo_renda_v2  \\\n",
       "id                                                               \n",
       "42543947  Ensino Fundamental                9             1517   \n",
       "49524184  Ensino Fundamental                9             1654   \n",
       "29697248     Ensino Superior                5             1468   \n",
       "61147127  Ensino Fundamental                4             1535   \n",
       "25601658        Ensino Médio               14             1399   \n",
       "\n",
       "         classe_renda_inf tp_sexo  uf status_civil  n_dependentes  \\\n",
       "id                                                                  \n",
       "42543947                B       M  SP       CASADO              0   \n",
       "49524184                B       F  SP       CASADO              0   \n",
       "29697248                A       M  SP       CASADO              0   \n",
       "61147127                B       F  SP     SOLTEIRO              3   \n",
       "25601658                A       F  RJ     SOLTEIRO              0   \n",
       "\n",
       "          casa_propria  max_dias_atraso_6m programa_reneg  \n",
       "id                                                         \n",
       "42543947             1                  62            NÃO  \n",
       "49524184             1                  56            NÃO  \n",
       "29697248             1                  63            NÃO  \n",
       "61147127             0                  66            NÃO  \n",
       "25601658             0                  64            NÃO  "
      ]
     },
     "execution_count": 5,
     "metadata": {},
     "output_type": "execute_result"
    }
   ],
   "source": [
    "# junção das tabelas\n",
    "data = pd.concat([tb_job,\n",
    "                  tb_cadastro,\n",
    "                  tb_atraso],\n",
    "                 axis = 1)\n",
    "data.head()"
   ]
  },
  {
   "cell_type": "code",
   "execution_count": 6,
   "id": "e24682a8-13d0-4a23-b36f-b7ff4fcaef41",
   "metadata": {},
   "outputs": [
    {
     "data": {
      "text/plain": [
       "(249678, 11)"
      ]
     },
     "execution_count": 6,
     "metadata": {},
     "output_type": "execute_result"
    }
   ],
   "source": [
    "# dimensionalidade dos dados\n",
    "data.shape"
   ]
  },
  {
   "cell_type": "code",
   "execution_count": 7,
   "id": "90f4259f-9024-4007-a2cd-cd39452b9b33",
   "metadata": {},
   "outputs": [
    {
     "name": "stdout",
     "output_type": "stream",
     "text": [
      "<class 'pandas.core.frame.DataFrame'>\n",
      "Index: 249678 entries, 42543947 to 43879655\n",
      "Data columns (total 11 columns):\n",
      " #   Column              Non-Null Count   Dtype \n",
      "---  ------              --------------   ----- \n",
      " 0   escolaridade        249678 non-null  object\n",
      " 1   tempo_empregado     249678 non-null  int64 \n",
      " 2   modelo_renda_v2     249678 non-null  int64 \n",
      " 3   classe_renda_inf    249678 non-null  object\n",
      " 4   tp_sexo             249678 non-null  object\n",
      " 5   uf                  249678 non-null  object\n",
      " 6   status_civil        249678 non-null  object\n",
      " 7   n_dependentes       249678 non-null  int64 \n",
      " 8   casa_propria        249678 non-null  int64 \n",
      " 9   max_dias_atraso_6m  249678 non-null  int64 \n",
      " 10  programa_reneg      249678 non-null  object\n",
      "dtypes: int64(5), object(6)\n",
      "memory usage: 22.9+ MB\n"
     ]
    }
   ],
   "source": [
    "# informações da base de dados\n",
    "data.info()"
   ]
  },
  {
   "cell_type": "code",
   "execution_count": 8,
   "id": "cdf9f22b-962f-445e-aac2-88f0992506e4",
   "metadata": {},
   "outputs": [],
   "source": [
    "def contar_linhas_duplicadas(data_frame):\n",
    "    '''Recebe um DataFrame e retorna se o DataFrame possui\n",
    "    linhas duplicadas ou não.'''\n",
    "    contar_duplicidade = data_frame.duplicated().sum()\n",
    "    if contar_duplicidade > 0:\n",
    "        return True\n",
    "    return False\n",
    "    \n",
    "def colunas_constantes(data_frame):\n",
    "    '''Retorna uma lista com as colunas constantes do DataFrame.'''\n",
    "    return data_frame.columns[data_frame.nunique() == 1].tolist()\n",
    "    \n",
    "def low_variance(data_frame, threshold):\n",
    "    '''Conta a variância das variáveis do DataFrame, mapeando low variance.'''\n",
    "    minmax_scaler = MinMaxScaler()\n",
    "    numerical_columns = data.select_dtypes('number')\n",
    "    data_frame_scaled = pd.DataFrame(minmax_scaler.fit_transform(numerical_columns),\n",
    "    columns = numerical_columns.columns.tolist())\n",
    "    low_variance = list()\n",
    "    for column in data_frame_scaled:\n",
    "        var = data_frame_scaled[column].var()\n",
    "        if var < threshold:\n",
    "            low_variance.append(column)\n",
    "    return low_variance\n",
    "    \n",
    "def pct_nan(data_frame):\n",
    "    '''Mensura o percentual de NaN.'''\n",
    "    return np.multiply(data_frame.isna().sum() / data_frame.shape[0], 100).round(2)"
   ]
  },
  {
   "cell_type": "code",
   "execution_count": 9,
   "id": "8ef13799-0d0c-43df-a4a1-edf3fc15ed97",
   "metadata": {},
   "outputs": [
    {
     "data": {
      "text/html": [
       "<div>\n",
       "<style scoped>\n",
       "    .dataframe tbody tr th:only-of-type {\n",
       "        vertical-align: middle;\n",
       "    }\n",
       "\n",
       "    .dataframe tbody tr th {\n",
       "        vertical-align: top;\n",
       "    }\n",
       "\n",
       "    .dataframe thead th {\n",
       "        text-align: right;\n",
       "    }\n",
       "</style>\n",
       "<table border=\"1\" class=\"dataframe\">\n",
       "  <thead>\n",
       "    <tr style=\"text-align: right;\">\n",
       "      <th></th>\n",
       "      <th>count</th>\n",
       "      <th>mean</th>\n",
       "      <th>std</th>\n",
       "      <th>min</th>\n",
       "      <th>25%</th>\n",
       "      <th>50%</th>\n",
       "      <th>75%</th>\n",
       "      <th>max</th>\n",
       "    </tr>\n",
       "  </thead>\n",
       "  <tbody>\n",
       "    <tr>\n",
       "      <th>tempo_empregado</th>\n",
       "      <td>249678.0</td>\n",
       "      <td>10.0</td>\n",
       "      <td>3.2</td>\n",
       "      <td>0.0</td>\n",
       "      <td>8.0</td>\n",
       "      <td>10.0</td>\n",
       "      <td>12.0</td>\n",
       "      <td>27.0</td>\n",
       "    </tr>\n",
       "    <tr>\n",
       "      <th>modelo_renda_v2</th>\n",
       "      <td>249678.0</td>\n",
       "      <td>1769.2</td>\n",
       "      <td>351.7</td>\n",
       "      <td>1200.0</td>\n",
       "      <td>1513.0</td>\n",
       "      <td>1704.0</td>\n",
       "      <td>2037.0</td>\n",
       "      <td>9841.0</td>\n",
       "    </tr>\n",
       "    <tr>\n",
       "      <th>n_dependentes</th>\n",
       "      <td>249678.0</td>\n",
       "      <td>0.5</td>\n",
       "      <td>0.9</td>\n",
       "      <td>0.0</td>\n",
       "      <td>0.0</td>\n",
       "      <td>0.0</td>\n",
       "      <td>1.0</td>\n",
       "      <td>4.0</td>\n",
       "    </tr>\n",
       "    <tr>\n",
       "      <th>casa_propria</th>\n",
       "      <td>249678.0</td>\n",
       "      <td>0.2</td>\n",
       "      <td>0.4</td>\n",
       "      <td>0.0</td>\n",
       "      <td>0.0</td>\n",
       "      <td>0.0</td>\n",
       "      <td>0.0</td>\n",
       "      <td>1.0</td>\n",
       "    </tr>\n",
       "    <tr>\n",
       "      <th>max_dias_atraso_6m</th>\n",
       "      <td>249678.0</td>\n",
       "      <td>60.0</td>\n",
       "      <td>7.7</td>\n",
       "      <td>28.0</td>\n",
       "      <td>55.0</td>\n",
       "      <td>60.0</td>\n",
       "      <td>65.0</td>\n",
       "      <td>95.0</td>\n",
       "    </tr>\n",
       "  </tbody>\n",
       "</table>\n",
       "</div>"
      ],
      "text/plain": [
       "                       count    mean    std     min     25%     50%     75%  \\\n",
       "tempo_empregado     249678.0    10.0    3.2     0.0     8.0    10.0    12.0   \n",
       "modelo_renda_v2     249678.0  1769.2  351.7  1200.0  1513.0  1704.0  2037.0   \n",
       "n_dependentes       249678.0     0.5    0.9     0.0     0.0     0.0     1.0   \n",
       "casa_propria        249678.0     0.2    0.4     0.0     0.0     0.0     0.0   \n",
       "max_dias_atraso_6m  249678.0    60.0    7.7    28.0    55.0    60.0    65.0   \n",
       "\n",
       "                       max  \n",
       "tempo_empregado       27.0  \n",
       "modelo_renda_v2     9841.0  \n",
       "n_dependentes          4.0  \n",
       "casa_propria           1.0  \n",
       "max_dias_atraso_6m    95.0  "
      ]
     },
     "execution_count": 9,
     "metadata": {},
     "output_type": "execute_result"
    }
   ],
   "source": [
    "# sumário estatístico das variáveis\n",
    "data.describe().T.round(1)"
   ]
  },
  {
   "cell_type": "code",
   "execution_count": 10,
   "id": "3b30429a-86ee-412b-a3df-36d3f715039e",
   "metadata": {},
   "outputs": [
    {
     "data": {
      "text/plain": [
       "escolaridade          0\n",
       "tempo_empregado       0\n",
       "modelo_renda_v2       0\n",
       "classe_renda_inf      0\n",
       "tp_sexo               0\n",
       "uf                    0\n",
       "status_civil          0\n",
       "n_dependentes         0\n",
       "casa_propria          0\n",
       "max_dias_atraso_6m    0\n",
       "programa_reneg        0\n",
       "dtype: int64"
      ]
     },
     "execution_count": 10,
     "metadata": {},
     "output_type": "execute_result"
    }
   ],
   "source": [
    "# check de missing\n",
    "data.isna().sum()"
   ]
  },
  {
   "cell_type": "code",
   "execution_count": 11,
   "id": "f93ffb1b-f065-4d9e-ac85-b406e693dc77",
   "metadata": {},
   "outputs": [
    {
     "data": {
      "text/plain": [
       "escolaridade             4\n",
       "tempo_empregado         27\n",
       "modelo_renda_v2       1550\n",
       "classe_renda_inf         3\n",
       "tp_sexo                  2\n",
       "uf                       2\n",
       "status_civil             4\n",
       "n_dependentes            5\n",
       "casa_propria             2\n",
       "max_dias_atraso_6m      68\n",
       "programa_reneg           2\n",
       "dtype: int64"
      ]
     },
     "execution_count": 11,
     "metadata": {},
     "output_type": "execute_result"
    }
   ],
   "source": [
    "# valores únicos em cada coluna\n",
    "data.nunique()"
   ]
  },
  {
   "cell_type": "code",
   "execution_count": 12,
   "id": "f43fa04c-c47b-4d57-83fe-39e6db3e2ab5",
   "metadata": {},
   "outputs": [
    {
     "data": {
      "text/plain": [
       "True"
      ]
     },
     "execution_count": 12,
     "metadata": {},
     "output_type": "execute_result"
    }
   ],
   "source": [
    "# check de linhas duplicadas\n",
    "contar_linhas_duplicadas(data)"
   ]
  },
  {
   "cell_type": "code",
   "execution_count": 13,
   "id": "1ec5867a-795e-450a-afa4-dcdac1a45e7d",
   "metadata": {},
   "outputs": [
    {
     "data": {
      "text/plain": [
       "False"
      ]
     },
     "execution_count": 13,
     "metadata": {},
     "output_type": "execute_result"
    }
   ],
   "source": [
    "# remove linhas duplicadas\n",
    "data.drop_duplicates(inplace = True)\n",
    "\n",
    "# check de linhas duplicadas\n",
    "contar_linhas_duplicadas(data)"
   ]
  },
  {
   "cell_type": "code",
   "execution_count": 14,
   "id": "290105ca-3c31-4e6c-a075-80de0a812862",
   "metadata": {},
   "outputs": [
    {
     "data": {
      "text/plain": [
       "Text(0.5, 1.0, 'Escolaridade')"
      ]
     },
     "execution_count": 14,
     "metadata": {},
     "output_type": "execute_result"
    },
    {
     "data": {
      "image/png": "[encoded data removed]",
      "text/plain": [
       "<Figure size 640x480 with 1 Axes>"
      ]
     },
     "metadata": {},
     "output_type": "display_data"
    }
   ],
   "source": [
    "data.escolaridade.value_counts(normalize = True).sort_index().plot(kind = 'bar')\n",
    "plt.title('Escolaridade')"
   ]
  },
  {
   "cell_type": "code",
   "execution_count": 15,
   "id": "14f68804-4723-4f41-9cdd-5d7f40eccc6f",
   "metadata": {},
   "outputs": [
    {
     "data": {
      "text/plain": [
       "Text(0.5, 1.0, 'Clientes por nível de renda')"
      ]
     },
     "execution_count": 15,
     "metadata": {},
     "output_type": "execute_result"
    },
    {
     "data": {
      "image/png": "[encoded data removed]",
      "text/plain": [
       "<Figure size 640x480 with 1 Axes>"
      ]
     },
     "metadata": {},
     "output_type": "display_data"
    }
   ],
   "source": [
    "data['classe_renda_inf'].value_counts(normalize = True).sort_index().plot(kind = 'barh')\n",
    "plt.title('Clientes por nível de renda')"
   ]
  },
  {
   "cell_type": "code",
   "execution_count": 16,
   "id": "770da6b5-3599-4bf1-aebc-7e60f93edced",
   "metadata": {},
   "outputs": [
    {
     "data": {
      "text/plain": [
       "Text(0.5, 0.98, 'Distribuição das variáveis')"
      ]
     },
     "execution_count": 16,
     "metadata": {},
     "output_type": "execute_result"
    },
    {
     "data": {
      "image/png": "[encoded data removed]",
      "text/plain": [
       "<Figure size 800x800 with 6 Axes>"
      ]
     },
     "metadata": {},
     "output_type": "display_data"
    }
   ],
   "source": [
    "fig, ax = plt.subplots(figsize = (8,8))\n",
    "data[['tempo_empregado', 'modelo_renda_v2', 'n_dependentes', 'casa_propria', 'max_dias_atraso_6m']].hist(ax =ax)\n",
    "fig.suptitle('Distribuição das variáveis')"
   ]
  },
  {
   "cell_type": "code",
   "execution_count": 17,
   "id": "93ddfe46-a853-47a8-9bb7-ec855ce9b01f",
   "metadata": {},
   "outputs": [],
   "source": [
    "# seleciona colunas do tipo object\n",
    "cat_cols = data.select_dtypes(include = 'object')"
   ]
  },
  {
   "cell_type": "code",
   "execution_count": 18,
   "id": "d62c52ea-2ac9-4972-8c34-acfe93f1288e",
   "metadata": {},
   "outputs": [
    {
     "name": "stdout",
     "output_type": "stream",
     "text": [
      "escolaridade\n",
      "['Ensino Fundamental' 'Ensino Superior' 'Ensino Médio' 'Pós-graduação']\n",
      "\n",
      "classe_renda_inf\n",
      "['B' 'A' 'C']\n",
      "\n",
      "tp_sexo\n",
      "['M' 'F']\n",
      "\n",
      "uf\n",
      "['SP' 'RJ']\n",
      "\n",
      "status_civil\n",
      "['CASADO' 'SOLTEIRO' 'C' 'CAsado']\n",
      "\n",
      "programa_reneg\n",
      "['NÃO' 'SIM']\n",
      "\n"
     ]
    }
   ],
   "source": [
    "# verifica valores únicos de cada coluna do tipo object\n",
    "for col in cat_cols:\n",
    "    print(col)\n",
    "    print(cat_cols[col].unique());print()"
   ]
  },
  {
   "cell_type": "code",
   "execution_count": 19,
   "id": "bdc5d89e-4276-4402-90c7-81dff32128ec",
   "metadata": {},
   "outputs": [],
   "source": [
    "# tratamento das variáveis\n",
    "data['escolaridade'] = data.escolaridade.map({'Ensino Fundamental': 1, 'Ensino Médio': 2, 'Ensino Superior': 3,'Pós-graduação': 4 })\n",
    "\n",
    "data['classe_renda_inf'] = data.classe_renda_inf.map({'A': 1, 'B': 2, 'C': 3 })\n",
    "data['tp_sexo'] = data.tp_sexo.map({'M': 1, 'F': 0})\n",
    "data['uf'] = data.uf.map({'SP': 1, 'RJ': 0})\n",
    "data['status_civil'] = data.status_civil.str.lower().map({'solteiro': 0, 'c': 1, 'casado': 1})\n",
    "data['programa_reneg'] = data.programa_reneg.map({'SIM': 1, 'NÃO': 0})\n",
    "data['target'] = data.max_dias_atraso_6m.apply(lambda x: 1 if x >= 60 else 0)"
   ]
  },
  {
   "cell_type": "code",
   "execution_count": 20,
   "id": "33418868-9a8f-40c4-8d29-f9175d9f63d2",
   "metadata": {},
   "outputs": [],
   "source": [
    "# features: variáveis explicativas do modelo\n",
    "X = data.drop(columns = ['target', 'max_dias_atraso_6m'])\n",
    "\n",
    "# target: variável-alvo da previsão\n",
    "y = data.target\n",
    "y.value_counts(normalize = True)\n",
    "\n",
    "SEED = 1321\n",
    "# separa os dados em conjunto de treinamento e conjunto de teste\n",
    "X_train, X_test, y_train, y_test = train_test_split(X, y, random_state = SEED,test_size = 0.3)"
   ]
  },
  {
   "cell_type": "code",
   "execution_count": 21,
   "id": "6d942736-b2d2-4e39-b274-615e866b3302",
   "metadata": {},
   "outputs": [
    {
     "data": {
      "text/plain": [
       "{'fit_time': array([3.92820358, 3.51390123, 3.66386271, 3.44343281, 3.68376279]),\n",
       " 'score_time': array([0.05043697, 0.04320383, 0.04334927, 0.10480738, 0.04362869]),\n",
       " 'test_score': array([0.82007736, 0.82020262, 0.82777606, 0.82604788, 0.8127482 ]),\n",
       " 'train_score': array([0.82066267, 0.81981301, 0.82547394, 0.82766233, 0.81303019])}"
      ]
     },
     "execution_count": 21,
     "metadata": {},
     "output_type": "execute_result"
    }
   ],
   "source": [
    "# define validação cruzada\n",
    "cv = StratifiedKFold(n_splits=5, shuffle=True, random_state = SEED)\n",
    "reglog = LogisticRegression()\n",
    "cv_scores_reglog = cross_validate(estimator = reglog,X = X_train,y = y_train,scoring = 'roc_auc',cv = cv,return_train_score = True)\n",
    "\n",
    "cv_scores_reglog"
   ]
  },
  {
   "cell_type": "code",
   "execution_count": 22,
   "id": "5d389321-a850-4983-8f13-e7050fa333dd",
   "metadata": {},
   "outputs": [
    {
     "data": {
      "text/plain": [
       "0.8213704244590841"
      ]
     },
     "execution_count": 22,
     "metadata": {},
     "output_type": "execute_result"
    }
   ],
   "source": [
    "cv_scores_reglog['test_score'].mean()"
   ]
  },
  {
   "cell_type": "code",
   "execution_count": 23,
   "id": "a0509c4b-1c7a-4c95-b3b7-51e9a728de39",
   "metadata": {},
   "outputs": [
    {
     "data": {
      "text/plain": [
       "0.8213284266450429"
      ]
     },
     "execution_count": 23,
     "metadata": {},
     "output_type": "execute_result"
    }
   ],
   "source": [
    "cv_scores_reglog['train_score'].mean()"
   ]
  },
  {
   "cell_type": "code",
   "execution_count": 24,
   "id": "0295fd72-70b2-427e-83fc-754a302a6d0b",
   "metadata": {},
   "outputs": [
    {
     "data": {
      "text/plain": [
       "{'fit_time': array([1.63527846, 1.84403491, 1.79378867, 2.04703307, 1.87463331]),\n",
       " 'score_time': array([0.05971742, 0.08161974, 0.0744369 , 0.06258917, 0.06183219]),\n",
       " 'test_score': array([0.75409465, 0.75572306, 0.75838224, 0.75352118, 0.75573476]),\n",
       " 'train_score': array([0.99906074, 0.99906398, 0.99905709, 0.99907839, 0.99904935])}"
      ]
     },
     "execution_count": 24,
     "metadata": {},
     "output_type": "execute_result"
    }
   ],
   "source": [
    "# define validação cruzada\n",
    "cv = StratifiedKFold(n_splits=5, shuffle=True, random_state = SEED)\n",
    "\n",
    "dt_clf = DecisionTreeClassifier()\n",
    "\n",
    "cv_scores_dt = cross_validate(estimator = dt_clf,X = X_train,y = y_train,scoring = 'roc_auc',cv = cv,return_train_score = True)\n",
    "\n",
    "cv_scores_dt"
   ]
  },
  {
   "cell_type": "code",
   "execution_count": 25,
   "id": "e1845923-987a-4030-9236-249d6fd2d103",
   "metadata": {},
   "outputs": [
    {
     "data": {
      "text/plain": [
       "0.999061909565602"
      ]
     },
     "execution_count": 25,
     "metadata": {},
     "output_type": "execute_result"
    }
   ],
   "source": [
    "cv_scores_dt['train_score'].mean()"
   ]
  },
  {
   "cell_type": "code",
   "execution_count": 26,
   "id": "ea085119-05fe-4d5f-bd78-6ad83038f5f7",
   "metadata": {},
   "outputs": [
    {
     "data": {
      "text/plain": [
       "0.7554911776314888"
      ]
     },
     "execution_count": 26,
     "metadata": {},
     "output_type": "execute_result"
    }
   ],
   "source": [
    "cv_scores_dt['test_score'].mean()"
   ]
  },
  {
   "cell_type": "code",
   "execution_count": 27,
   "id": "8b141288-bf36-4fcb-946f-5d0e72d0a02f",
   "metadata": {},
   "outputs": [
    {
     "data": {
      "text/plain": [
       "(0.8887857303240605, 0.8873817554892716)"
      ]
     },
     "execution_count": 27,
     "metadata": {},
     "output_type": "execute_result"
    }
   ],
   "source": [
    "# define validação cruzada\n",
    "cv = StratifiedKFold(n_splits=5, shuffle=True, random_state = SEED)\n",
    "dt_clf = DecisionTreeClassifier(max_depth = 5)\n",
    "cv_scores_dt = cross_validate(estimator = dt_clf,X = X_train,y = y_train,scoring = 'roc_auc',cv = cv,return_train_score = True)\n",
    "cv_scores_dt['train_score'].mean(),cv_scores_dt['test_score'].mean()"
   ]
  },
  {
   "cell_type": "code",
   "execution_count": 28,
   "id": "004a1593-cdcb-4a70-a912-e415061094d6",
   "metadata": {},
   "outputs": [
    {
     "data": {
      "text/plain": [
       "(0.8890679211760354, 0.8867754535066765)"
      ]
     },
     "execution_count": 28,
     "metadata": {},
     "output_type": "execute_result"
    }
   ],
   "source": [
    "# define validação cruzada\n",
    "cv = StratifiedKFold(n_splits=5, shuffle=True, random_state = SEED)\n",
    "\n",
    "rf_clf = RandomForestClassifier(max_depth = 5)\n",
    "\n",
    "cv_scores_rf = cross_validate(estimator = rf_clf,X = X_train,y = y_train,scoring = 'roc_auc',cv = cv,return_train_score = True)\n",
    "\n",
    "cv_scores_rf['train_score'].mean(),cv_scores_rf['test_score'].mean()\n"
   ]
  },
  {
   "cell_type": "code",
   "execution_count": 29,
   "id": "678529ab-a7b4-4630-8b47-8ae9a1701493",
   "metadata": {},
   "outputs": [
    {
     "name": "stdout",
     "output_type": "stream",
     "text": [
      "Fitting 5 folds for each of 3 candidates, totalling 15 fits\n"
     ]
    },
    {
     "data": {
      "text/html": [
       "<style>#sk-container-id-1 {color: black;}#sk-container-id-1 pre{padding: 0;}#sk-container-id-1 div.sk-toggleable {background-color: white;}#sk-container-id-1 label.sk-toggleable__label {cursor: pointer;display: block;width: 100%;margin-bottom: 0;padding: 0.3em;box-sizing: border-box;text-align: center;}#sk-container-id-1 label.sk-toggleable__label-arrow:before {content: \"▸\";float: left;margin-right: 0.25em;color: #696969;}#sk-container-id-1 label.sk-toggleable__label-arrow:hover:before {color: black;}#sk-container-id-1 div.sk-estimator:hover label.sk-toggleable__label-arrow:before {color: black;}#sk-container-id-1 div.sk-toggleable__content {max-height: 0;max-width: 0;overflow: hidden;text-align: left;background-color: #f0f8ff;}#sk-container-id-1 div.sk-toggleable__content pre {margin: 0.2em;color: black;border-radius: 0.25em;background-color: #f0f8ff;}#sk-container-id-1 input.sk-toggleable__control:checked~div.sk-toggleable__content {max-height: 200px;max-width: 100%;overflow: auto;}#sk-container-id-1 input.sk-toggleable__control:checked~label.sk-toggleable__label-arrow:before {content: \"▾\";}#sk-container-id-1 div.sk-estimator input.sk-toggleable__control:checked~label.sk-toggleable__label {background-color: #d4ebff;}#sk-container-id-1 div.sk-label input.sk-toggleable__control:checked~label.sk-toggleable__label {background-color: #d4ebff;}#sk-container-id-1 input.sk-hidden--visually {border: 0;clip: rect(1px 1px 1px 1px);clip: rect(1px, 1px, 1px, 1px);height: 1px;margin: -1px;overflow: hidden;padding: 0;position: absolute;width: 1px;}#sk-container-id-1 div.sk-estimator {font-family: monospace;background-color: #f0f8ff;border: 1px dotted black;border-radius: 0.25em;box-sizing: border-box;margin-bottom: 0.5em;}#sk-container-id-1 div.sk-estimator:hover {background-color: #d4ebff;}#sk-container-id-1 div.sk-parallel-item::after {content: \"\";width: 100%;border-bottom: 1px solid gray;flex-grow: 1;}#sk-container-id-1 div.sk-label:hover label.sk-toggleable__label {background-color: #d4ebff;}#sk-container-id-1 div.sk-serial::before {content: \"\";position: absolute;border-left: 1px solid gray;box-sizing: border-box;top: 0;bottom: 0;left: 50%;z-index: 0;}#sk-container-id-1 div.sk-serial {display: flex;flex-direction: column;align-items: center;background-color: white;padding-right: 0.2em;padding-left: 0.2em;position: relative;}#sk-container-id-1 div.sk-item {position: relative;z-index: 1;}#sk-container-id-1 div.sk-parallel {display: flex;align-items: stretch;justify-content: center;background-color: white;position: relative;}#sk-container-id-1 div.sk-item::before, #sk-container-id-1 div.sk-parallel-item::before {content: \"\";position: absolute;border-left: 1px solid gray;box-sizing: border-box;top: 0;bottom: 0;left: 50%;z-index: -1;}#sk-container-id-1 div.sk-parallel-item {display: flex;flex-direction: column;z-index: 1;position: relative;background-color: white;}#sk-container-id-1 div.sk-parallel-item:first-child::after {align-self: flex-end;width: 50%;}#sk-container-id-1 div.sk-parallel-item:last-child::after {align-self: flex-start;width: 50%;}#sk-container-id-1 div.sk-parallel-item:only-child::after {width: 0;}#sk-container-id-1 div.sk-dashed-wrapped {border: 1px dashed gray;margin: 0 0.4em 0.5em 0.4em;box-sizing: border-box;padding-bottom: 0.4em;background-color: white;}#sk-container-id-1 div.sk-label label {font-family: monospace;font-weight: bold;display: inline-block;line-height: 1.2em;}#sk-container-id-1 div.sk-label-container {text-align: center;}#sk-container-id-1 div.sk-container {/* jupyter's `normalize.less` sets `[hidden] { display: none; }` but bootstrap.min.css set `[hidden] { display: none !important; }` so we also need the `!important` here to be able to override the default hidden behavior on the sphinx rendered scikit-learn.org. See: https://github.com/scikit-learn/scikit-learn/issues/21755 */display: inline-block !important;position: relative;}#sk-container-id-1 div.sk-text-repr-fallback {display: none;}</style><div id=\"sk-container-id-1\" class=\"sk-top-container\"><div class=\"sk-text-repr-fallback\"><pre>RandomizedSearchCV(estimator=RandomForestClassifier(max_depth=5), n_iter=3,\n",
       "                   n_jobs=-1,\n",
       "                   param_distributions={&#x27;criterion&#x27;: [&#x27;gini&#x27;, &#x27;entropy&#x27;],\n",
       "                                        &#x27;max_depth&#x27;: [1, 2, 3, 4, 5, 6, 7, 8, 9,\n",
       "                                                      10],\n",
       "                                        &#x27;min_samples_leaf&#x27;: range(2, 21, 2),\n",
       "                                        &#x27;min_samples_split&#x27;: range(2, 41, 5)},\n",
       "                   random_state=1321, scoring=&#x27;roc_auc&#x27;, verbose=1)</pre><b>In a Jupyter environment, please rerun this cell to show the HTML representation or trust the notebook. <br />On GitHub, the HTML representation is unable to render, please try loading this page with nbviewer.org.</b></div><div class=\"sk-container\" hidden><div class=\"sk-item sk-dashed-wrapped\"><div class=\"sk-label-container\"><div class=\"sk-label sk-toggleable\"><input class=\"sk-toggleable__control sk-hidden--visually\" id=\"sk-estimator-id-1\" type=\"checkbox\" ><label for=\"sk-estimator-id-1\" class=\"sk-toggleable__label sk-toggleable__label-arrow\">RandomizedSearchCV</label><div class=\"sk-toggleable__content\"><pre>RandomizedSearchCV(estimator=RandomForestClassifier(max_depth=5), n_iter=3,\n",
       "                   n_jobs=-1,\n",
       "                   param_distributions={&#x27;criterion&#x27;: [&#x27;gini&#x27;, &#x27;entropy&#x27;],\n",
       "                                        &#x27;max_depth&#x27;: [1, 2, 3, 4, 5, 6, 7, 8, 9,\n",
       "                                                      10],\n",
       "                                        &#x27;min_samples_leaf&#x27;: range(2, 21, 2),\n",
       "                                        &#x27;min_samples_split&#x27;: range(2, 41, 5)},\n",
       "                   random_state=1321, scoring=&#x27;roc_auc&#x27;, verbose=1)</pre></div></div></div><div class=\"sk-parallel\"><div class=\"sk-parallel-item\"><div class=\"sk-item\"><div class=\"sk-label-container\"><div class=\"sk-label sk-toggleable\"><input class=\"sk-toggleable__control sk-hidden--visually\" id=\"sk-estimator-id-2\" type=\"checkbox\" ><label for=\"sk-estimator-id-2\" class=\"sk-toggleable__label sk-toggleable__label-arrow\">estimator: RandomForestClassifier</label><div class=\"sk-toggleable__content\"><pre>RandomForestClassifier(max_depth=5)</pre></div></div></div><div class=\"sk-serial\"><div class=\"sk-item\"><div class=\"sk-estimator sk-toggleable\"><input class=\"sk-toggleable__control sk-hidden--visually\" id=\"sk-estimator-id-3\" type=\"checkbox\" ><label for=\"sk-estimator-id-3\" class=\"sk-toggleable__label sk-toggleable__label-arrow\">RandomForestClassifier</label><div class=\"sk-toggleable__content\"><pre>RandomForestClassifier(max_depth=5)</pre></div></div></div></div></div></div></div></div></div></div>"
      ],
      "text/plain": [
       "RandomizedSearchCV(estimator=RandomForestClassifier(max_depth=5), n_iter=3,\n",
       "                   n_jobs=-1,\n",
       "                   param_distributions={'criterion': ['gini', 'entropy'],\n",
       "                                        'max_depth': [1, 2, 3, 4, 5, 6, 7, 8, 9,\n",
       "                                                      10],\n",
       "                                        'min_samples_leaf': range(2, 21, 2),\n",
       "                                        'min_samples_split': range(2, 41, 5)},\n",
       "                   random_state=1321, scoring='roc_auc', verbose=1)"
      ]
     },
     "execution_count": 29,
     "metadata": {},
     "output_type": "execute_result"
    }
   ],
   "source": [
    "# define validação cruzada\n",
    "cv = StratifiedKFold(n_splits=2, shuffle=True, random_state = SEED)\n",
    "param_grid = {'criterion' : ['gini', 'entropy'],\n",
    "              'max_depth' : list(range(1, 11)),\n",
    "              'min_samples_leaf' : range(2, 21, 2),\n",
    "              'min_samples_split' : range(2, 41, 5),}\n",
    "rf_model = RandomForestClassifier(max_depth = 5)\n",
    "rf_model = RandomizedSearchCV(estimator = rf_model,param_distributions = param_grid,scoring = 'roc_auc',random_state = SEED,n_jobs = -1,verbose = 1,n_iter = 3)\n",
    "rf_model.fit(X_train, y_train)"
   ]
  },
  {
   "cell_type": "code",
   "execution_count": 30,
   "id": "819227ff-c182-4706-b1a5-ec1b64371f02",
   "metadata": {},
   "outputs": [
    {
     "data": {
      "text/plain": [
       "(0.8911488350267678, 0.8851463939436982)"
      ]
     },
     "execution_count": 30,
     "metadata": {},
     "output_type": "execute_result"
    }
   ],
   "source": [
    "y_pred_proba_train = rf_model.predict_proba(X_train)\n",
    "y_pred_proba_test = rf_model.predict_proba(X_test)\n",
    "y_pred_train = rf_model.predict(X_train)\n",
    "y_pred_test = rf_model.predict(X_test)\n",
    "roc_auc_train = roc_auc_score(y_train, y_pred_proba_train[:, 1])\n",
    "roc_auc_test = roc_auc_score(y_test, y_pred_proba_test[:, 1])\n",
    "roc_auc_train, roc_auc_test"
   ]
  },
  {
   "cell_type": "code",
   "execution_count": 31,
   "id": "617ae4f4-30ce-46a3-a949-862d01a12a5e",
   "metadata": {},
   "outputs": [
    {
     "data": {
      "image/png": "[encoded data removed]",
      "text/plain": [
       "<Figure size 500x800 with 2 Axes>"
      ]
     },
     "metadata": {},
     "output_type": "display_data"
    }
   ],
   "source": [
    "result = X_test.reset_index()[['id']]\n",
    "result['SCORE'] = np.multiply(y_pred_proba_test[:, 1], 1000).astype(int)\n",
    "result['TARGET'] = y_test.values\n",
    "result['DECIL'] = pd.qcut(result.SCORE, 10, labels = [i for i in range(1, 11)])\n",
    "decile_df = pd.crosstab(result['DECIL'], result['TARGET'].map({1:'MAU', 0: 'BOM'}),normalize = True) * 100\n",
    "fig, ax = plt.subplots(figsize = (5, 8))\n",
    "ax.set_title('DISCRIMINAÇÃO DO MODELO POR DECIL', weight = 'bold')\n",
    "sns.heatmap(decile_df, cmap = 'Reds', annot = True, ax = ax)\n",
    "plt.show()"
   ]
  },
  {
   "cell_type": "code",
   "execution_count": 32,
   "id": "b66f0494-ecc0-4793-ade4-c5cd17a85b4f",
   "metadata": {},
   "outputs": [
    {
     "data": {
      "text/html": [
       "<div>\n",
       "<style scoped>\n",
       "    .dataframe tbody tr th:only-of-type {\n",
       "        vertical-align: middle;\n",
       "    }\n",
       "\n",
       "    .dataframe tbody tr th {\n",
       "        vertical-align: top;\n",
       "    }\n",
       "\n",
       "    .dataframe thead th {\n",
       "        text-align: right;\n",
       "    }\n",
       "</style>\n",
       "<table border=\"1\" class=\"dataframe\">\n",
       "  <thead>\n",
       "    <tr style=\"text-align: right;\">\n",
       "      <th></th>\n",
       "      <th>id</th>\n",
       "      <th>SCORE</th>\n",
       "      <th>TARGET</th>\n",
       "      <th>DECIL</th>\n",
       "      <th>DECISION</th>\n",
       "    </tr>\n",
       "  </thead>\n",
       "  <tbody>\n",
       "    <tr>\n",
       "      <th>0</th>\n",
       "      <td>43703045</td>\n",
       "      <td>94</td>\n",
       "      <td>0</td>\n",
       "      <td>1</td>\n",
       "      <td>A</td>\n",
       "    </tr>\n",
       "    <tr>\n",
       "      <th>1</th>\n",
       "      <td>45653219</td>\n",
       "      <td>990</td>\n",
       "      <td>1</td>\n",
       "      <td>9</td>\n",
       "      <td>C</td>\n",
       "    </tr>\n",
       "    <tr>\n",
       "      <th>2</th>\n",
       "      <td>83160789</td>\n",
       "      <td>903</td>\n",
       "      <td>1</td>\n",
       "      <td>8</td>\n",
       "      <td>C</td>\n",
       "    </tr>\n",
       "    <tr>\n",
       "      <th>3</th>\n",
       "      <td>59513450</td>\n",
       "      <td>611</td>\n",
       "      <td>0</td>\n",
       "      <td>5</td>\n",
       "      <td>C</td>\n",
       "    </tr>\n",
       "    <tr>\n",
       "      <th>4</th>\n",
       "      <td>32977762</td>\n",
       "      <td>992</td>\n",
       "      <td>1</td>\n",
       "      <td>10</td>\n",
       "      <td>C</td>\n",
       "    </tr>\n",
       "    <tr>\n",
       "      <th>...</th>\n",
       "      <td>...</td>\n",
       "      <td>...</td>\n",
       "      <td>...</td>\n",
       "      <td>...</td>\n",
       "      <td>...</td>\n",
       "    </tr>\n",
       "    <tr>\n",
       "      <th>74391</th>\n",
       "      <td>37465972</td>\n",
       "      <td>621</td>\n",
       "      <td>1</td>\n",
       "      <td>7</td>\n",
       "      <td>C</td>\n",
       "    </tr>\n",
       "    <tr>\n",
       "      <th>74392</th>\n",
       "      <td>43374175</td>\n",
       "      <td>622</td>\n",
       "      <td>1</td>\n",
       "      <td>7</td>\n",
       "      <td>C</td>\n",
       "    </tr>\n",
       "    <tr>\n",
       "      <th>74393</th>\n",
       "      <td>49268233</td>\n",
       "      <td>100</td>\n",
       "      <td>1</td>\n",
       "      <td>2</td>\n",
       "      <td>A</td>\n",
       "    </tr>\n",
       "    <tr>\n",
       "      <th>74394</th>\n",
       "      <td>1832769</td>\n",
       "      <td>104</td>\n",
       "      <td>0</td>\n",
       "      <td>3</td>\n",
       "      <td>A</td>\n",
       "    </tr>\n",
       "    <tr>\n",
       "      <th>74395</th>\n",
       "      <td>89394227</td>\n",
       "      <td>614</td>\n",
       "      <td>0</td>\n",
       "      <td>5</td>\n",
       "      <td>C</td>\n",
       "    </tr>\n",
       "  </tbody>\n",
       "</table>\n",
       "<p>74396 rows × 5 columns</p>\n",
       "</div>"
      ],
      "text/plain": [
       "             id  SCORE  TARGET DECIL DECISION\n",
       "0      43703045     94       0     1        A\n",
       "1      45653219    990       1     9        C\n",
       "2      83160789    903       1     8        C\n",
       "3      59513450    611       0     5        C\n",
       "4      32977762    992       1    10        C\n",
       "...         ...    ...     ...   ...      ...\n",
       "74391  37465972    621       1     7        C\n",
       "74392  43374175    622       1     7        C\n",
       "74393  49268233    100       1     2        A\n",
       "74394   1832769    104       0     3        A\n",
       "74395  89394227    614       0     5        C\n",
       "\n",
       "[74396 rows x 5 columns]"
      ]
     },
     "execution_count": 32,
     "metadata": {},
     "output_type": "execute_result"
    }
   ],
   "source": [
    "def classificar_cliente(score):\n",
    "    if score < 300: return 'A'\n",
    "    elif 300 <= score <= 600: return 'B'\n",
    "    elif score > 600: return 'C'\n",
    "result['DECISION'] = result.SCORE.apply(classificar_cliente)\n",
    "result"
   ]
  }
 ],
 "metadata": {
  "kernelspec": {
   "display_name": "Python 3 (ipykernel)",
   "language": "python",
   "name": "python3"
  },
  "language_info": {
   "codemirror_mode": {
    "name": "ipython",
    "version": 3
   },
   "file_extension": ".py",
   "mimetype": "text/x-python",
   "name": "python",
   "nbconvert_exporter": "python",
   "pygments_lexer": "ipython3",
   "version": "3.11.6"
  }
 },
 "nbformat": 4,
 "nbformat_minor": 5
}
