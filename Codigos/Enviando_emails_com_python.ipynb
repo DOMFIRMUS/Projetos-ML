{
 "cells": [
  {
   "cell_type": "code",
   "execution_count": 1,
   "id": "5eefb351-e576-4e35-9a42-d509109c2f59",
   "metadata": {},
   "outputs": [],
   "source": [
    "# pip install win32com"
   ]
  },
  {
   "cell_type": "code",
   "execution_count": 3,
   "id": "2bf11c5b-190b-439d-ad75-32d3f6d1357e",
   "metadata": {},
   "outputs": [
    {
     "ename": "ModuleNotFoundError",
     "evalue": "No module named 'win32com'",
     "output_type": "error",
     "traceback": [
      "\u001b[0;31m---------------------------------------------------------------------------\u001b[0m",
      "\u001b[0;31mModuleNotFoundError\u001b[0m                       Traceback (most recent call last)",
      "Cell \u001b[0;32mIn[3], line 2\u001b[0m\n\u001b[1;32m      1\u001b[0m \u001b[38;5;66;03m# Importando a biblioteca\u001b[39;00m\n\u001b[0;32m----> 2\u001b[0m \u001b[38;5;28;01mimport\u001b[39;00m \u001b[38;5;21;01mwin32com\u001b[39;00m\u001b[38;5;21;01m.\u001b[39;00m\u001b[38;5;21;01mclient\u001b[39;00m \u001b[38;5;28;01mas\u001b[39;00m \u001b[38;5;21;01mwin32\u001b[39;00m\n\u001b[1;32m      4\u001b[0m \u001b[38;5;66;03m# Instanciado o aplitivo na máquina\u001b[39;00m\n\u001b[1;32m      5\u001b[0m Outlook \u001b[38;5;241m=\u001b[39m win32\u001b[38;5;241m.\u001b[39mDispatch(\u001b[38;5;124m'\u001b[39m\u001b[38;5;124moutlook.application\u001b[39m\u001b[38;5;124m'\u001b[39m)\n",
      "\u001b[0;31mModuleNotFoundError\u001b[0m: No module named 'win32com'"
     ]
    }
   ],
   "source": [
    "# Importando a biblioteca\n",
    "import win32com.client as win32\n",
    "\n",
    "# Instanciado o aplitivo na máquina\n",
    "Outlook = win32.Dispatch('outlook.application')\n",
    "\n",
    "# Criando o e-mail\n",
    "Email = Outlook.CreateItem(0)\n",
    "\n",
    "# Destino\n",
    "Email.To = 'jean.firmino@ufpe.br'\n",
    "\n",
    "# Assunto\n",
    "Email.Subject = 'Automatizando com Python'\n",
    "\n",
    "# Corpo do e-mail\n",
    "Email.Body = 'Message body'\n",
    "\n",
    "html = '''\n",
    "<html>\n",
    "    <head></head>\n",
    "    <body style=\"background-color:#f5f5f5\">\n",
    "        <p>\n",
    "            Prezado, boa tarde.\n",
    "            <br>\n",
    "            Tipografia para e-mail com HTML\n",
    "            <br>\n",
    "            Inlcuir link <a href=\"http://www.python.org\"> Clique aqui </a>.\n",
    "            <h1 style=\"color:red\"> Odemir Depieri Jr </h1>\n",
    "            <h2 style=\"color:blue\"> Odemir Depieri Jr </h2>\n",
    "            <h3 style=\"color:orange\"> Odemir Depieri Jr </h3>\n",
    "            <h4> Odemir Depieri Jr </h4>\n",
    "            <p style=\"text-align:center\"> Centralizar </p>\n",
    "            <p style=\"text-align:center; font-size:50px\"> Aumentar Fonte </p>\n",
    "            <p style=\"text-align:center; font-family:verdana\"> Estilo da Fonte </p>\n",
    "            <p style=\"text-align:center\"> <b> Negrito </b> </p>\n",
    "            <p style=\"text-align:center\"> <i> Italico </i> </p>\n",
    "            <p style=\"text-align:center\"> <strong> Importância </strong> </p>\n",
    "            <p style=\"text-align:center\"> <small> Pequeno </small> </p>\n",
    "            <p style=\"text-align:center\"> <del> Deletado </del> </p>\n",
    "            <p style=\"text-align:center\"> <mark> Marcado </mark> </p>\n",
    "            <p style=\"text-align:center\"> <ins> Sublinhado </ins> </p>\n",
    "            <p style=\"text-align:center\"> Texto foi <sub> subscrito </sub> </p>\n",
    "            <p>\n",
    "            <!-- Comentário em HTML -->\n",
    "            <!-- Colocando uma linha -->\n",
    "            <hr>\n",
    "            <h4> Tabela com 1 linha 3 Coluna </h4>\n",
    "            <table>\n",
    "            <tr>\n",
    "            <td> 100 </td>\n",
    "            <td> 200 </td>\n",
    "            <td> 300 </td>\n",
    "            </tr>\n",
    "            </table>\n",
    "            </p>\n",
    "            <p>\n",
    "            <h4> Lista </h4>\n",
    "            <ul>\n",
    "            <li> Python </li>\n",
    "            <li> JavaScript </li>\n",
    "            <li> C# </li>\n",
    "            </ul>\n",
    "            </p>\n",
    "            </p>\n",
    "            <div style=\"border: 1px solid black\"> Retangulo </div>\n",
    "            <p> Incluindo um <span style=\"border: 1px solid black\"> SPAN </span> na frase.</p>\n",
    "            <div style=\"background-color:black; color:white; padding:20px;\">\n",
    "            <h2> Python </h2>\n",
    "            <p> Uma lingugem incrivel !!! </p>\n",
    "            <p> by: Odemir Depieri Jr </p>\n",
    "            </div>\n",
    "    </body>\n",
    "</html>\n",
    "'''\n",
    "\n",
    "# Aplicando HTML no seu e-mail\n",
    "Email.HTMLBody = html\n",
    "\n",
    "# Para anexos\n",
    "#Local_Arquivo = 'localDoArquivo/NomeArquivo.extensão'\n",
    "#Email.Attachments.Add( Local_Arquivo )\n",
    "\n",
    "# Enviar e-mail\n",
    "Email.Send()"
   ]
  },
  {
   "cell_type": "code",
   "execution_count": null,
   "id": "774f0250-deef-4136-a943-dc232eeed1b2",
   "metadata": {},
   "outputs": [],
   "source": []
  }
 ],
 "metadata": {
  "kernelspec": {
   "display_name": "Python 3 (ipykernel)",
   "language": "python",
   "name": "python3"
  },
  "language_info": {
   "codemirror_mode": {
    "name": "ipython",
    "version": 3
   },
   "file_extension": ".py",
   "mimetype": "text/x-python",
   "name": "python",
   "nbconvert_exporter": "python",
   "pygments_lexer": "ipython3",
   "version": "3.11.6"
  }
 },
 "nbformat": 4,
 "nbformat_minor": 5
}
