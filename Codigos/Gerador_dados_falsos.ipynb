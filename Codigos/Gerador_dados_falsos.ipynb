{
 "cells": [
  {
   "cell_type": "code",
   "execution_count": 1,
   "id": "6a1fc221",
   "metadata": {},
   "outputs": [
    {
     "name": "stdout",
     "output_type": "stream",
     "text": [
      "Defaulting to user installation because normal site-packages is not writeable\n",
      "Requirement already satisfied: faker in /home/guideon/.local/lib/python3.11/site-packages (15.3.3)\n",
      "Requirement already satisfied: python-dateutil>=2.4 in /usr/lib/python3.11/site-packages (from faker) (2.8.2)\n",
      "Requirement already satisfied: six>=1.5 in /usr/lib/python3.11/site-packages (from python-dateutil>=2.4->faker) (1.16.0)\n",
      "Note: you may need to restart the kernel to use updated packages.\n"
     ]
    }
   ],
   "source": [
    "#pip install faker"
   ]
  },
  {
   "cell_type": "code",
   "execution_count": 2,
   "id": "74ccdb51",
   "metadata": {},
   "outputs": [],
   "source": [
    "from faker import Faker"
   ]
  },
  {
   "cell_type": "code",
   "execution_count": 3,
   "id": "3457c79e",
   "metadata": {},
   "outputs": [],
   "source": [
    "fake = Faker('pt_br')"
   ]
  },
  {
   "cell_type": "code",
   "execution_count": 4,
   "id": "66b2ace9",
   "metadata": {},
   "outputs": [
    {
     "name": "stdout",
     "output_type": "stream",
     "text": [
      "Maria Fernanda Duarte \n",
      "\n"
     ]
    }
   ],
   "source": [
    "print(fake.name(),'\\n')"
   ]
  },
  {
   "cell_type": "code",
   "execution_count": 5,
   "id": "a197b248",
   "metadata": {},
   "outputs": [
    {
     "name": "stdout",
     "output_type": "stream",
     "text": [
      "Campo de Freitas, 8\n",
      "Nova Cachoeirinha\n",
      "92458915 Caldeira de Santos / PR\n"
     ]
    }
   ],
   "source": [
    "print(fake.address())"
   ]
  },
  {
   "cell_type": "code",
   "execution_count": 6,
   "id": "606220fd",
   "metadata": {},
   "outputs": [
    {
     "name": "stdout",
     "output_type": "stream",
     "text": [
      "fernando52@example.net\n"
     ]
    }
   ],
   "source": [
    "print(fake.email())"
   ]
  },
  {
   "cell_type": "code",
   "execution_count": 7,
   "id": "747d38c8",
   "metadata": {},
   "outputs": [
    {
     "name": "stdout",
     "output_type": "stream",
     "text": [
      "Recusandae autem modi incidunt officia. Minima odit ad recusandae unde aperiam quidem illo. Laboriosam facere assumenda cupiditate.\n",
      "Dolor necessitatibus voluptates deleniti assumenda.\n"
     ]
    }
   ],
   "source": [
    "print(fake.text())"
   ]
  },
  {
   "cell_type": "code",
   "execution_count": 8,
   "id": "3c0558a1",
   "metadata": {},
   "outputs": [
    {
     "name": "stdout",
     "output_type": "stream",
     "text": [
      "+55 (031) 1983-1532\n"
     ]
    }
   ],
   "source": [
    "print(fake.phone_number())"
   ]
  },
  {
   "cell_type": "code",
   "execution_count": null,
   "id": "384d9bf5",
   "metadata": {},
   "outputs": [],
   "source": []
  },
  {
   "cell_type": "code",
   "execution_count": null,
   "id": "c8287c58",
   "metadata": {},
   "outputs": [],
   "source": []
  },
  {
   "cell_type": "code",
   "execution_count": null,
   "id": "147cd4a2",
   "metadata": {},
   "outputs": [],
   "source": []
  },
  {
   "cell_type": "code",
   "execution_count": null,
   "id": "221055ae",
   "metadata": {},
   "outputs": [],
   "source": []
  }
 ],
 "metadata": {
  "kernelspec": {
   "display_name": "Python 3 (ipykernel)",
   "language": "python",
   "name": "python3"
  },
  "language_info": {
   "codemirror_mode": {
    "name": "ipython",
    "version": 3
   },
   "file_extension": ".py",
   "mimetype": "text/x-python",
   "name": "python",
   "nbconvert_exporter": "python",
   "pygments_lexer": "ipython3",
   "version": "3.11.0"
  }
 },
 "nbformat": 4,
 "nbformat_minor": 5
}
