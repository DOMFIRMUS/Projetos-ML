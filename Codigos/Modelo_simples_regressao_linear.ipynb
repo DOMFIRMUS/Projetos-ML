{
 "cells": [
  {
   "cell_type": "code",
   "execution_count": null,
   "id": "93b01565",
   "metadata": {},
   "outputs": [],
   "source": [
    "# Bibliotecas para a manipulação dos dados\n",
    "import pandas as pd \n",
    "import numpy as np"
   ]
  },
  {
   "cell_type": "code",
   "execution_count": null,
   "id": "d8d49910",
   "metadata": {},
   "outputs": [],
   "source": [
    "Metragem = [40,45,50,55,60,62,65,70,80,90,92,100,110,120,150]"
   ]
  },
  {
   "cell_type": "code",
   "execution_count": null,
   "id": "26bc5e57",
   "metadata": {},
   "outputs": [],
   "source": [
    "Valor = [200,280,310,350,390,410,450,490,550,620,670,700,810,989]"
   ]
  },
  {
   "cell_type": "code",
   "execution_count": null,
   "id": "29c0ba4e",
   "metadata": {},
   "outputs": [],
   "source": [
    "# Organizando os valores para a geração de um Dataframe\n",
    "Dicionario = {'Metragem': Metragem, 'Valor Imovel': Valor}"
   ]
  },
  {
   "cell_type": "code",
   "execution_count": null,
   "id": "ff278458",
   "metadata": {},
   "outputs": [],
   "source": [
    "DataFrame = pd.Data.Frame(data=Dicionario)"
   ]
  },
  {
   "cell_type": "code",
   "execution_count": null,
   "id": "cf7cb49a",
   "metadata": {},
   "outputs": [],
   "source": [
    "# Separando os dados em dois eixos\n",
    "Eixo_x = DataFrame.iloc[:,0].values\n",
    "Eixo_y = DataFrame.iloc[:,1].values"
   ]
  },
  {
   "cell_type": "code",
   "execution_count": null,
   "id": "ddd09bf5",
   "metadata": {},
   "outputs": [],
   "source": [
    "# Encontrando a correlação entre eles\n",
    "Correlacao = np.corrcoef(Eixo_x,Eixo_y)\n",
    "Correlacao"
   ]
  },
  {
   "cell_type": "code",
   "execution_count": null,
   "id": "d2a1263c",
   "metadata": {},
   "outputs": [],
   "source": [
    "Eixo_x"
   ]
  },
  {
   "cell_type": "code",
   "execution_count": null,
   "id": "126bdc07",
   "metadata": {},
   "outputs": [],
   "source": [
    "# Conversão do eixo para o formato de matriz\n",
    "Eixo_x = Eixo_x.reshape(-1,1)"
   ]
  },
  {
   "cell_type": "code",
   "execution_count": null,
   "id": "1d657867",
   "metadata": {},
   "outputs": [],
   "source": [
    "Eixo_x"
   ]
  },
  {
   "cell_type": "code",
   "execution_count": null,
   "id": "347f5d49",
   "metadata": {},
   "outputs": [],
   "source": [
    "# Importando a biblioteca da regressão\n",
    "from sklearn.linear_model import LinearRegression\n",
    "\n",
    "# Definição da função\n",
    "Regressor = LinearRegression()\n",
    "\n",
    "# Treinamento do modelo\n",
    "Regressor.fit(Eixo_x,Eixo_y)\n",
    "\n",
    "# Informações da equação \n",
    "A = Regressor.coef_\n",
    "B = Regressor.intercept_\n",
    "\n",
    "print('A =',A,'\\n','B =', B[0])"
   ]
  },
  {
   "cell_type": "code",
   "execution_count": null,
   "id": "d7683834",
   "metadata": {},
   "outputs": [],
   "source": [
    "# Cálculo do score do modelo\n",
    "Score = Regressor.score(Eixo_x,Eixo_y)\n",
    "Score"
   ]
  }
 ],
 "metadata": {
  "kernelspec": {
   "display_name": "Python 3 (ipykernel)",
   "language": "python",
   "name": "python3"
  },
  "language_info": {
   "codemirror_mode": {
    "name": "ipython",
    "version": 3
   },
   "file_extension": ".py",
   "mimetype": "text/x-python",
   "name": "python",
   "nbconvert_exporter": "python",
   "pygments_lexer": "ipython3",
   "version": "3.11.0"
  }
 },
 "nbformat": 4,
 "nbformat_minor": 5
}
