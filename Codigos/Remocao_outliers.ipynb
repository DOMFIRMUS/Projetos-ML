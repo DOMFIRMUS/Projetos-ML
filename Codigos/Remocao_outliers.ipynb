{
 "cells": [
  {
   "cell_type": "code",
   "execution_count": 14,
   "id": "7bb06937",
   "metadata": {},
   "outputs": [],
   "source": [
    "# pip install seaborn"
   ]
  },
  {
   "cell_type": "code",
   "execution_count": 15,
   "id": "ba680ae9",
   "metadata": {},
   "outputs": [],
   "source": [
    "#Bibliotecas utilizadas\n",
    "import pandas as pd\n",
    "import seaborn as sns \n",
    "import numpy as np\n",
    "import matplotlib.pyplot as plt"
   ]
  },
  {
   "cell_type": "code",
   "execution_count": 16,
   "id": "e3350673",
   "metadata": {},
   "outputs": [
    {
     "data": {
      "text/plain": [
       "0       29\n",
       "1       27\n",
       "2       33\n",
       "3       31\n",
       "4       29\n",
       "5       30\n",
       "6       34\n",
       "7       30\n",
       "8        1\n",
       "9        1\n",
       "10     100\n",
       "11    1000\n",
       "dtype: int64"
      ]
     },
     "execution_count": 16,
     "metadata": {},
     "output_type": "execute_result"
    }
   ],
   "source": [
    "# Geração de dados\n",
    "Dados = pd.Series([29,27,33,31,29,30,34,30,1,1,100,1000])\n",
    "Dados"
   ]
  },
  {
   "cell_type": "code",
   "execution_count": 17,
   "id": "65967fc2",
   "metadata": {},
   "outputs": [
    {
     "data": {
      "text/plain": [
       "count      12.000000\n",
       "mean      112.083333\n",
       "std       280.691827\n",
       "min         1.000000\n",
       "25%        28.500000\n",
       "50%        30.000000\n",
       "75%        33.250000\n",
       "max      1000.000000\n",
       "dtype: float64"
      ]
     },
     "execution_count": 17,
     "metadata": {},
     "output_type": "execute_result"
    }
   ],
   "source": [
    "Dados_estatisticos = Dados.describe()\n",
    "Dados_estatisticos"
   ]
  },
  {
   "cell_type": "code",
   "execution_count": 18,
   "id": "1c58209c",
   "metadata": {},
   "outputs": [
    {
     "data": {
      "text/html": [
       "<div>\n",
       "<style scoped>\n",
       "    .dataframe tbody tr th:only-of-type {\n",
       "        vertical-align: middle;\n",
       "    }\n",
       "\n",
       "    .dataframe tbody tr th {\n",
       "        vertical-align: top;\n",
       "    }\n",
       "\n",
       "    .dataframe thead th {\n",
       "        text-align: right;\n",
       "    }\n",
       "</style>\n",
       "<table border=\"1\" class=\"dataframe\">\n",
       "  <thead>\n",
       "    <tr style=\"text-align: right;\">\n",
       "      <th></th>\n",
       "      <th>0</th>\n",
       "    </tr>\n",
       "  </thead>\n",
       "  <tbody>\n",
       "    <tr>\n",
       "      <th>count</th>\n",
       "      <td>12.000000</td>\n",
       "    </tr>\n",
       "    <tr>\n",
       "      <th>mean</th>\n",
       "      <td>112.083333</td>\n",
       "    </tr>\n",
       "    <tr>\n",
       "      <th>std</th>\n",
       "      <td>280.691827</td>\n",
       "    </tr>\n",
       "    <tr>\n",
       "      <th>min</th>\n",
       "      <td>1.000000</td>\n",
       "    </tr>\n",
       "    <tr>\n",
       "      <th>25%</th>\n",
       "      <td>28.500000</td>\n",
       "    </tr>\n",
       "    <tr>\n",
       "      <th>50%</th>\n",
       "      <td>30.000000</td>\n",
       "    </tr>\n",
       "    <tr>\n",
       "      <th>75%</th>\n",
       "      <td>33.250000</td>\n",
       "    </tr>\n",
       "    <tr>\n",
       "      <th>max</th>\n",
       "      <td>1000.000000</td>\n",
       "    </tr>\n",
       "  </tbody>\n",
       "</table>\n",
       "</div>"
      ],
      "text/plain": [
       "                 0\n",
       "count    12.000000\n",
       "mean    112.083333\n",
       "std     280.691827\n",
       "min       1.000000\n",
       "25%      28.500000\n",
       "50%      30.000000\n",
       "75%      33.250000\n",
       "max    1000.000000"
      ]
     },
     "execution_count": 18,
     "metadata": {},
     "output_type": "execute_result"
    }
   ],
   "source": [
    "# Desenvolvimento do dataframe\n",
    "Analise = pd.DataFrame(Dados_estatisticos)\n",
    "Analise"
   ]
  },
  {
   "cell_type": "code",
   "execution_count": 19,
   "id": "916f4f77",
   "metadata": {},
   "outputs": [
    {
     "data": {
      "text/html": [
       "<div>\n",
       "<style scoped>\n",
       "    .dataframe tbody tr th:only-of-type {\n",
       "        vertical-align: middle;\n",
       "    }\n",
       "\n",
       "    .dataframe tbody tr th {\n",
       "        vertical-align: top;\n",
       "    }\n",
       "\n",
       "    .dataframe thead th {\n",
       "        text-align: right;\n",
       "    }\n",
       "</style>\n",
       "<table border=\"1\" class=\"dataframe\">\n",
       "  <thead>\n",
       "    <tr style=\"text-align: right;\">\n",
       "      <th></th>\n",
       "      <th>Dados Estatisticos</th>\n",
       "    </tr>\n",
       "  </thead>\n",
       "  <tbody>\n",
       "    <tr>\n",
       "      <th>count</th>\n",
       "      <td>12.000000</td>\n",
       "    </tr>\n",
       "    <tr>\n",
       "      <th>mean</th>\n",
       "      <td>112.083333</td>\n",
       "    </tr>\n",
       "    <tr>\n",
       "      <th>std</th>\n",
       "      <td>280.691827</td>\n",
       "    </tr>\n",
       "    <tr>\n",
       "      <th>min</th>\n",
       "      <td>1.000000</td>\n",
       "    </tr>\n",
       "    <tr>\n",
       "      <th>25%</th>\n",
       "      <td>28.500000</td>\n",
       "    </tr>\n",
       "    <tr>\n",
       "      <th>50%</th>\n",
       "      <td>30.000000</td>\n",
       "    </tr>\n",
       "    <tr>\n",
       "      <th>75%</th>\n",
       "      <td>33.250000</td>\n",
       "    </tr>\n",
       "    <tr>\n",
       "      <th>max</th>\n",
       "      <td>1000.000000</td>\n",
       "    </tr>\n",
       "  </tbody>\n",
       "</table>\n",
       "</div>"
      ],
      "text/plain": [
       "       Dados Estatisticos\n",
       "count           12.000000\n",
       "mean           112.083333\n",
       "std            280.691827\n",
       "min              1.000000\n",
       "25%             28.500000\n",
       "50%             30.000000\n",
       "75%             33.250000\n",
       "max           1000.000000"
      ]
     },
     "execution_count": 19,
     "metadata": {},
     "output_type": "execute_result"
    }
   ],
   "source": [
    "# Vamos alterar o nome da coluna\n",
    "Analise.rename(columns={0:'Dados Estatisticos'},inplace=True)\n",
    "Analise"
   ]
  },
  {
   "cell_type": "code",
   "execution_count": 20,
   "id": "df6eef1a",
   "metadata": {},
   "outputs": [],
   "source": [
    "# IQR - Variação Interquartil\n",
    "\n",
    "#Primeiro quartil\n",
    "Q1 = np.percentile(Dados,25)\n",
    "\n",
    "# Terceiro quartil\n",
    "Q3 = np.percentile(Dados,75)\n",
    "\n",
    "# Calculando o IQR\n",
    "IQR = Q3 - Q1\n",
    "\n",
    "# Linha de Corte \n",
    "corte = IQR*1.5\n",
    "\n",
    "# Calculando os extremos\n",
    "Menor = Q1 - corte\n",
    "Maior = Q3 + corte"
   ]
  },
  {
   "cell_type": "code",
   "execution_count": 21,
   "id": "9b738e98",
   "metadata": {},
   "outputs": [
    {
     "data": {
      "text/plain": [
       "Int64Index([8, 9, 10, 11], dtype='int64')"
      ]
     },
     "execution_count": 21,
     "metadata": {},
     "output_type": "execute_result"
    }
   ],
   "source": [
    "# Identificando os valores que ficaram fora do conjunto de dados\n",
    "Outliers = Dados[(Dados<Menor) | (Dados>Maior)].index\n",
    "Outliers"
   ]
  },
  {
   "cell_type": "code",
   "execution_count": 22,
   "id": "3d2cf733",
   "metadata": {},
   "outputs": [
    {
     "data": {
      "text/plain": [
       "0    29\n",
       "1    27\n",
       "2    33\n",
       "3    31\n",
       "4    29\n",
       "5    30\n",
       "6    34\n",
       "7    30\n",
       "dtype: int64"
      ]
     },
     "execution_count": 22,
     "metadata": {},
     "output_type": "execute_result"
    }
   ],
   "source": [
    "# Removendo os valores que são outliers\n",
    "Dados_sem_outliers = Dados.drop(Outliers)\n",
    "Dados_sem_outliers"
   ]
  },
  {
   "cell_type": "code",
   "execution_count": 23,
   "id": "4f2d30ad",
   "metadata": {},
   "outputs": [
    {
     "data": {
      "text/plain": [
       "<AxesSubplot: >"
      ]
     },
     "execution_count": 23,
     "metadata": {},
     "output_type": "execute_result"
    },
    {
     "data": {
      "image/png": "[encoded data removed]",
      "text/plain": [
       "<Figure size 432x432 with 1 Axes>"
      ]
     },
     "metadata": {
      "needs_background": "light"
     },
     "output_type": "display_data"
    }
   ],
   "source": [
    "# Gerando os gráficos\n",
    "plt.figure(figsize=(6,6))\n",
    "sns.boxplot(y=Dados_sem_outliers)"
   ]
  }
 ],
 "metadata": {
  "kernelspec": {
   "display_name": "Python 3 (ipykernel)",
   "language": "python",
   "name": "python3"
  },
  "language_info": {
   "codemirror_mode": {
    "name": "ipython",
    "version": 3
   },
   "file_extension": ".py",
   "mimetype": "text/x-python",
   "name": "python",
   "nbconvert_exporter": "python",
   "pygments_lexer": "ipython3",
   "version": "3.11.0"
  }
 },
 "nbformat": 4,
 "nbformat_minor": 5
}
