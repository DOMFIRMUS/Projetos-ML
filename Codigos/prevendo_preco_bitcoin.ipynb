{
 "cells": [
  {
   "cell_type": "code",
   "execution_count": 1,
   "id": "e0f5025d-4b13-4293-be4b-a5cebbf5a296",
   "metadata": {},
   "outputs": [],
   "source": [
    "# pip install pandas_datareader"
   ]
  },
  {
   "cell_type": "code",
   "execution_count": 2,
   "id": "79d8c20f-1c07-4246-aa9f-8202652e715c",
   "metadata": {},
   "outputs": [],
   "source": [
    "#pip install yfinance"
   ]
  },
  {
   "cell_type": "code",
   "execution_count": 3,
   "id": "01d809b2-c040-4945-9b6f-e693c6be056a",
   "metadata": {},
   "outputs": [],
   "source": [
    "#pip install keras"
   ]
  },
  {
   "cell_type": "code",
   "execution_count": null,
   "id": "8076ebde-30ed-460b-bee9-f0aae811154d",
   "metadata": {},
   "outputs": [],
   "source": [
    "# Libs Necessárias\n",
    "import numpy as np\n",
    "import pandas as pd\n",
    "import pandas_datareader.data as web\n",
    "\n",
    "# Libs para gráficos\n",
    "import matplotlib.pyplot as plt\n",
    "\n",
    "# Libs para utilizar o Plotly\n",
    "import plotly.express as px\n",
    "import plotly.graph_objects as Dash\n",
    "\n",
    "# pip install yfinance\n",
    "import yfinance as yf\n",
    "yf.pdr_override()\n",
    "\n",
    "# Libs para uso de Machine Learning do Keras\n",
    "from keras.models import Sequential\n",
    "from keras.layers import Dense, LSTM\n",
    "\n",
    "# Ignorando avisos\n",
    "import warnings\n",
    "warnings.filterwarnings('ignore')"
   ]
  },
  {
   "cell_type": "code",
   "execution_count": null,
   "id": "0bd37b80-468d-4d43-be93-4f03451363cb",
   "metadata": {},
   "outputs": [],
   "source": [
    "# Pegar os dados do Bitcoin com o Yfinance\n",
    "Base_Dados = web.get_data_yahoo( 'BTC-USD', start=‘2021-01-01' )\n",
    "\n",
    "# Verificando\n",
    "Base_Dados.head()"
   ]
  },
  {
   "cell_type": "code",
   "execution_count": null,
   "id": "a6a20b3b-a58b-4015-a25e-1ad737ee139b",
   "metadata": {},
   "outputs": [],
   "source": [
    "# Plot para verificar preço de fechamento\n",
    "# Chamando o gráfico\n",
    "fig = px.line( Base_Dados, y='Close' )\n",
    "fig.show()"
   ]
  },
  {
   "cell_type": "code",
   "execution_count": null,
   "id": "0a40947c-77f0-437e-896a-32b926fab29f",
   "metadata": {},
   "outputs": [],
   "source": [
    "# --- Gráficos com as médias\n",
    "# Gerar a média movel do fechamento das ações\n",
    "Media_Movel = Base_Dados['Close'].rolling(5).mean()\n",
    "Media_Movel_Tendencia = Base_Dados['Close'].rolling(30).mean()\n",
    "\n",
    "# Definindo uma figura\n",
    "Figura = Dash.Figure()\n",
    "\n",
    "# Incluindo o Eixo no Gráfico - Abertura\n",
    "Figura.add_trace(Dash.Scatter(x = Base_Dados.index, y = Base_Dados.Close,mode='lines', name='Fechamento', marker_color = '#FF7F0E'))\n",
    "\n",
    "# Incluindo o Eixo no Gráfico - Maior\n",
    "Figura.add_trace(Dash.Scatter(x = Base_Dados.index, y = Media_Movel,mode='lines', name='Média Móvel', opacity=0.5,marker_color = '#2CA02C',))\n",
    "\n",
    "# Incluindo o Eixo no Gráfico - Menor\n",
    "Figura.add_trace(Dash.Scatter(x = Base_Dados.index, y = Media_Movel_Tendencia,mode='lines', name='Tendência', opacity=0.5,marker_color = '#D62728'))\n",
    "\n",
    "# Modificando o Layout do Gráfico\n",
    "Figura.update_layout(title='Histórico de Preço', # Titulo\n",
    "                     titlefont_size = 28, # Tamanho da Fonte\n",
    "                    # Parametros para mexer no eixo X\n",
    "                    xaxis = dict(title='Período Histórico', # Titulo do Eixo x\n",
    "                                 titlefont_size=16, # Tamanho fonte do Titulo\n",
    "                                 tickfont_size=14), # Tamanho da fonte do eixo\n",
    "                    # Tamanho do Grafico\n",
    "                    height = 500,\n",
    "                    # Parametros para mexer no eixo y\n",
    "                    yaxis=dict(\n",
    "                                title='Preço Bitcoint', # Titulo do Eixo y\n",
    "                                titlefont_size=16, # Tamanho fonte do Titulo\n",
    "                                tickfont_size=14), # Tamanho da fonte do eixo\n",
    "                    # Parametros para mexer na legenda\n",
    "                    legend=dict(\n",
    "                                y=1, x=1, # Posição da Legenda\n",
    "                                bgcolor='rgba(255, 255, 255, 0)', # Cor de fundo\n",
    "                                bordercolor='rgba(255, 255, 255, 0)')) # Cor da Bornda\n",
    "# Mostrando o Gráfico\n",
    "Figura.show()"
   ]
  },
  {
   "cell_type": "code",
   "execution_count": null,
   "id": "f2b1bd59-b3e3-4d76-ba02-51dae2104dd8",
   "metadata": {},
   "outputs": [],
   "source": [
    "# Estatísticas\n",
    "Base_Dados.describe()"
   ]
  },
  {
   "cell_type": "code",
   "execution_count": null,
   "id": "5b750b59-b91c-40ec-924f-2fad151772fc",
   "metadata": {},
   "outputs": [],
   "source": [
    "# Função para escolanemnto\n",
    "from sklearn.preprocessing import MinMaxScaler\n",
    "\n",
    "# Chamando a Função\n",
    "Funcao_MinMAx = MinMaxScaler( feature_range=(0,1) )\n",
    "\n",
    "# Criando uma copia\n",
    "Dados_Treino = Base_Dados.filter(['Close'])\n",
    "\n",
    "# Aplicando a função\n",
    "Dados_Treino_Escalados = Funcao_MinMAx.fit_transform( Dados_Treino )\n",
    "\n",
    "# VErificando\n",
    "Dados_Treino_Escalados[0:5]"
   ]
  },
  {
   "cell_type": "code",
   "execution_count": null,
   "id": "a3eecd92-49c2-453e-88b2-a8404e64678e",
   "metadata": {},
   "outputs": [],
   "source": [
    "# Listas para receber os dados\n",
    "x_treinamento = []\n",
    "y_treinamento = []\n",
    "\n",
    "# Loop para separar os dados de treino e teste\n",
    "# Nesse Loop vamos seprar os dados em blocos de 60 valores\n",
    "for Loop in range( 60, len(Dados_Treino_Escalados) ):\n",
    "    # Separando os dados de treinamento x\n",
    "    Filtrando_Amostra_Treinamento_x = Dados_Treino_Escalados[Loop-60 : Loop, 0 ]\n",
    "    x_treinamento.append( Filtrando_Amostra_Treinamento_x )\n",
    "    # Separando os dados de treinamento y\n",
    "    Filtrando_Amostra_Treinamento_y = Dados_Treino_Escalados[Loop, 0]\n",
    "    y_treinamento.append( Filtrando_Amostra_Treinamento_y )\n",
    "# Transformando as listas em Array\n",
    "x_treinamento, y_treinamento = np.array(x_treinamento), np.array(y_treinamento)\n",
    "# Convertendo o array para Matriz\n",
    "x_treinamento = np.reshape(x_treinamento, (x_treinamento.shape[0], x_treinamento.shape[1], 1))\n",
    "# Verificando a demisão da nossa matriz\n",
    "x_treinamento.shape"
   ]
  },
  {
   "cell_type": "code",
   "execution_count": null,
   "id": "ffcdc87a-b84a-4d76-8359-d496815170d9",
   "metadata": {},
   "outputs": [],
   "source": [
    "# Definindo a função do Keras\n",
    "# Essa função é uma pilha linear de camadas do Keras\n",
    "Modelo = Sequential()\n",
    "\n",
    "# Adicinando as camadas e parametros para nossa rede neural\n",
    "# Treinamento da Rede Neural Recorrente\n",
    "# LSTM - Long Short-Term Memory\n",
    "Modelo.add(LSTM(50, return_sequences = True,input_shape = (x_treinamento.shape[1], 1)))\n",
    "Modelo.add(LSTM(50, return_sequences = False))\n",
    "\n",
    "# Adicionando as camadas na rede neural\n",
    "Modelo.add(Dense(25))\n",
    "Modelo.add(Dense(1))\n",
    "Modelo.compile(optimizer = 'adam', loss = 'mean_squared_error')\n",
    "\n",
    "# Treinando o modelo\n",
    "Modelo.fit(x_treinamento, y_treinamento, batch_size = 1, epochs = 10)"
   ]
  },
  {
   "cell_type": "code",
   "execution_count": null,
   "id": "e006cd37-cbbe-4840-849d-dda64f646477",
   "metadata": {},
   "outputs": [],
   "source": [
    "import math\n",
    "\n",
    "# Arredondando o numero para cima usando o 'math.ceil'\n",
    "Dados_Fechamento_Valores_Tamanho = math.ceil( len(Dados_Treino) * .8)\n",
    "# Definindo amostra para ser testada\n",
    "Dados_Teste = Dados_Treino_Escalados[Dados_Fechamento_Valores_Tamanho - 60: , :]\n",
    "\n",
    "# Lista para recever os dados de teste\n",
    "x_teste = []\n",
    "# Lista com os dados de teste\n",
    "y_Teste = Dados_Treino_Escalados[Dados_Fechamento_Valores_Tamanho:, :]\n",
    "\n",
    "# Loop para fixar amostra para teste\n",
    "for Loop in range (60, len(Dados_Teste)):\n",
    "    x_teste.append(Dados_Teste[Loop - 60:Loop, 0])\n",
    "    # Transformando os dados em um array\n",
    "    x_teste = np.array(x_teste)\n",
    "    # Convertendo o array para Matriz\n",
    "    x_teste = np.reshape(x_teste, (x_teste.shape[0], x_teste.shape[1], 1))\n",
    "    # Aplicando as Previsões\n",
    "    Previsoes = Modelo.predict(x_teste)\n",
    "    # Calculando o erro quadrático médio\n",
    "    rsme = np.sqrt(np.mean(Previsoes - y_Teste) ** 2)\n",
    "    print('Erro Quadrático Médio:', rsme )\n",
    "# Invertendo para escalas reais\n",
    "Previsoes = Funcao_MinMAx.inverse_transform(Previsoes)"
   ]
  },
  {
   "cell_type": "code",
   "execution_count": null,
   "id": "1bacc67a-ca43-43b7-a55c-920bda9d118e",
   "metadata": {},
   "outputs": [],
   "source": [
    "# Criando a base para verificar o real x modelo\n",
    "Validação = Dados_Treino[Dados_Fechamento_Valores_Tamanho:]\n",
    "\n",
    "# Atribuindo as previsões no DataSet\n",
    "Validação['Previsões'] = Previsoes\n",
    "\n",
    "# Definindo uma figura\n",
    "Figura = Dash.Figure()\n",
    "\n",
    "# Incluindo o Eixo no Gráfico - Fechamento\n",
    "Figura.add_trace(Dash.Scatter(x = Validação.index, y = Validação.Close,mode='lines', name='Fechamento', marker_color = '#FF7F0E', ))\n",
    "\n",
    "# Incluindo o Eixo no Gráfico - Previsão\n",
    "Figura.add_trace(Dash.Scatter(x = Validação.index, y = Validação.Previsões,mode='lines', name='Previsão', marker_color = '#2CA02C', ))\n",
    "\n",
    "# Modificando o Layout do Gráfico\n",
    "Figura.update_layout( title='Realizado vs Modelo', # Titulo\n",
    "                     titlefont_size = 28, # Tamanho da Fonte\n",
    "                    # Parametros para mexer no eixo X\n",
    "                    xaxis = dict(\n",
    "                                title='Período Histórico', # Titulo do Eixo x\n",
    "                                titlefont_size=16, # Tamanho fonte do Titulo\n",
    "                                tickfont_size=14), # Tamanho da fonte do eixo\n",
    "                    # Tamanho do Grafico\n",
    "                    height = 500,\n",
    "                    # Parametros para mexer no eixo y\n",
    "                    yaxis=dict(\n",
    "                                title='Preço do Bitcoin', # Titulo do Eixo y\n",
    "                                titlefont_size=16, # Tamanho fonte do Titulo\n",
    "                                tickfont_size=14), # Tamanho da fonte do eixo\n",
    "                    # Parametros para mexer na legenda\n",
    "                    legend=dict(\n",
    "                                y=1, x=1, # Posição da Legenda\n",
    "                                bgcolor='rgba(255, 255, 255, 0)', # Cor de fundo\n",
    "                                bordercolor='rgba(255, 255, 255, 0)')) # Cor da Bornda\n",
    "# Mostrando o Gráfico\n",
    "Figura.show()"
   ]
  },
  {
   "cell_type": "code",
   "execution_count": null,
   "id": "1d5ddc97-15c0-48db-882a-fc9a8e87a3cc",
   "metadata": {},
   "outputs": [],
   "source": []
  }
 ],
 "metadata": {
  "kernelspec": {
   "display_name": "Python 3 (ipykernel)",
   "language": "python",
   "name": "python3"
  },
  "language_info": {
   "codemirror_mode": {
    "name": "ipython",
    "version": 3
   },
   "file_extension": ".py",
   "mimetype": "text/x-python",
   "name": "python",
   "nbconvert_exporter": "python",
   "pygments_lexer": "ipython3",
   "version": "3.11.6"
  }
 },
 "nbformat": 4,
 "nbformat_minor": 5
}
