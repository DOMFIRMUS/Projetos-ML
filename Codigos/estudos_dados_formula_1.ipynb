{
 "cells": [
  {
   "cell_type": "code",
   "execution_count": 1,
   "id": "ac991c7c-16a8-4329-94d0-4f0727bc07ee",
   "metadata": {},
   "outputs": [],
   "source": [
    "#pip install fastf1"
   ]
  },
  {
   "cell_type": "code",
   "execution_count": 2,
   "id": "3d2a6958-642c-40c8-a7e4-81882ae1f342",
   "metadata": {},
   "outputs": [],
   "source": [
    "# Importas as libs Necessárias\n",
    "import pandas as pd\n",
    "import numpy as np\n",
    "import random\n",
    "import requests\n",
    "\n",
    "# Não esqueça de instalar a biblioteca\n",
    "# pip install fastf1\n",
    "import fastf1 as ff1\n",
    "\n",
    "import seaborn as sns\n",
    "import matplotlib.pyplot as plt"
   ]
  },
  {
   "cell_type": "code",
   "execution_count": 3,
   "id": "7f09932c-1ff0-4d9d-a9a6-11e777963a04",
   "metadata": {},
   "outputs": [],
   "source": [
    "# Fazer uma api rápida para extrair os dados da Ergast\n",
    "# Acesse o site para verificar os dados \n",
    "# https://ergast.com/api/f1\n",
    "\n",
    "# Função da API com a Ergast\n",
    "def API_Ergast(api_endpoint: str):\n",
    "    \n",
    "    # Passar o link da API\n",
    "    url = f'https://ergast.com/api/f1/{api_endpoint}.json'\n",
    "    \n",
    "    # Fazendo a quest com a URL para retornar um arquivo Json\n",
    "    response = requests.get(url).json()\n",
    "    \n",
    "    return response['MRData']"
   ]
  },
  {
   "cell_type": "code",
   "execution_count": 5,
   "id": "c94f2c02-a180-4580-bcf0-1ecf28643306",
   "metadata": {},
   "outputs": [
    {
     "ename": "ValueError",
     "evalue": "If using all scalar values, you must pass an index",
     "output_type": "error",
     "traceback": [
      "\u001b[0;31m---------------------------------------------------------------------------\u001b[0m",
      "\u001b[0;31mValueError\u001b[0m                                Traceback (most recent call last)",
      "Cell \u001b[0;32mIn[5], line 39\u001b[0m\n\u001b[1;32m     35\u001b[0m         Equipe_Motorista[Motorista] \u001b[38;5;241m=\u001b[39m Classificacao[Mot][\u001b[38;5;124m'\u001b[39m\u001b[38;5;124mConstructors\u001b[39m\u001b[38;5;124m'\u001b[39m][\u001b[38;5;241m0\u001b[39m][\u001b[38;5;124m'\u001b[39m\u001b[38;5;124mname\u001b[39m\u001b[38;5;124m'\u001b[39m]\n\u001b[1;32m     38\u001b[0m     \u001b[38;5;66;03m# Acrescente a rodada atual ao nosso dataframe final\u001b[39;00m\n\u001b[0;32m---> 39\u001b[0m     Dados_Campeonato \u001b[38;5;241m=\u001b[39m pd\u001b[38;5;241m.\u001b[39mconcat([Dados_Campeonato, \u001b[43mpd\u001b[49m\u001b[38;5;241;43m.\u001b[39;49m\u001b[43mDataFrame\u001b[49m\u001b[43m(\u001b[49m\u001b[43mClassificacao_Atual\u001b[49m\u001b[43m)\u001b[49m], ignore_index\u001b[38;5;241m=\u001b[39m\u001b[38;5;28;01mTrue\u001b[39;00m)\n\u001b[1;32m     41\u001b[0m \u001b[38;5;66;03m# Defina a rodada como o índice do dataframe\u001b[39;00m\n\u001b[1;32m     42\u001b[0m Dados_Campeonato \u001b[38;5;241m=\u001b[39m Dados_Campeonato\u001b[38;5;241m.\u001b[39mset_index(\u001b[38;5;124m'\u001b[39m\u001b[38;5;124mround\u001b[39m\u001b[38;5;124m'\u001b[39m)\n",
      "File \u001b[0;32m~/.local/lib/python3.11/site-packages/pandas/core/frame.py:709\u001b[0m, in \u001b[0;36mDataFrame.__init__\u001b[0;34m(self, data, index, columns, dtype, copy)\u001b[0m\n\u001b[1;32m    703\u001b[0m     mgr \u001b[38;5;241m=\u001b[39m \u001b[38;5;28mself\u001b[39m\u001b[38;5;241m.\u001b[39m_init_mgr(\n\u001b[1;32m    704\u001b[0m         data, axes\u001b[38;5;241m=\u001b[39m{\u001b[38;5;124m\"\u001b[39m\u001b[38;5;124mindex\u001b[39m\u001b[38;5;124m\"\u001b[39m: index, \u001b[38;5;124m\"\u001b[39m\u001b[38;5;124mcolumns\u001b[39m\u001b[38;5;124m\"\u001b[39m: columns}, dtype\u001b[38;5;241m=\u001b[39mdtype, copy\u001b[38;5;241m=\u001b[39mcopy\n\u001b[1;32m    705\u001b[0m     )\n\u001b[1;32m    707\u001b[0m \u001b[38;5;28;01melif\u001b[39;00m \u001b[38;5;28misinstance\u001b[39m(data, \u001b[38;5;28mdict\u001b[39m):\n\u001b[1;32m    708\u001b[0m     \u001b[38;5;66;03m# GH#38939 de facto copy defaults to False only in non-dict cases\u001b[39;00m\n\u001b[0;32m--> 709\u001b[0m     mgr \u001b[38;5;241m=\u001b[39m \u001b[43mdict_to_mgr\u001b[49m\u001b[43m(\u001b[49m\u001b[43mdata\u001b[49m\u001b[43m,\u001b[49m\u001b[43m \u001b[49m\u001b[43mindex\u001b[49m\u001b[43m,\u001b[49m\u001b[43m \u001b[49m\u001b[43mcolumns\u001b[49m\u001b[43m,\u001b[49m\u001b[43m \u001b[49m\u001b[43mdtype\u001b[49m\u001b[38;5;241;43m=\u001b[39;49m\u001b[43mdtype\u001b[49m\u001b[43m,\u001b[49m\u001b[43m \u001b[49m\u001b[43mcopy\u001b[49m\u001b[38;5;241;43m=\u001b[39;49m\u001b[43mcopy\u001b[49m\u001b[43m,\u001b[49m\u001b[43m \u001b[49m\u001b[43mtyp\u001b[49m\u001b[38;5;241;43m=\u001b[39;49m\u001b[43mmanager\u001b[49m\u001b[43m)\u001b[49m\n\u001b[1;32m    710\u001b[0m \u001b[38;5;28;01melif\u001b[39;00m \u001b[38;5;28misinstance\u001b[39m(data, ma\u001b[38;5;241m.\u001b[39mMaskedArray):\n\u001b[1;32m    711\u001b[0m     \u001b[38;5;28;01mfrom\u001b[39;00m \u001b[38;5;21;01mnumpy\u001b[39;00m\u001b[38;5;21;01m.\u001b[39;00m\u001b[38;5;21;01mma\u001b[39;00m \u001b[38;5;28;01mimport\u001b[39;00m mrecords\n",
      "File \u001b[0;32m~/.local/lib/python3.11/site-packages/pandas/core/internals/construction.py:481\u001b[0m, in \u001b[0;36mdict_to_mgr\u001b[0;34m(data, index, columns, dtype, typ, copy)\u001b[0m\n\u001b[1;32m    477\u001b[0m     \u001b[38;5;28;01melse\u001b[39;00m:\n\u001b[1;32m    478\u001b[0m         \u001b[38;5;66;03m# dtype check to exclude e.g. range objects, scalars\u001b[39;00m\n\u001b[1;32m    479\u001b[0m         arrays \u001b[38;5;241m=\u001b[39m [x\u001b[38;5;241m.\u001b[39mcopy() \u001b[38;5;28;01mif\u001b[39;00m \u001b[38;5;28mhasattr\u001b[39m(x, \u001b[38;5;124m\"\u001b[39m\u001b[38;5;124mdtype\u001b[39m\u001b[38;5;124m\"\u001b[39m) \u001b[38;5;28;01melse\u001b[39;00m x \u001b[38;5;28;01mfor\u001b[39;00m x \u001b[38;5;129;01min\u001b[39;00m arrays]\n\u001b[0;32m--> 481\u001b[0m \u001b[38;5;28;01mreturn\u001b[39;00m \u001b[43marrays_to_mgr\u001b[49m\u001b[43m(\u001b[49m\u001b[43marrays\u001b[49m\u001b[43m,\u001b[49m\u001b[43m \u001b[49m\u001b[43mcolumns\u001b[49m\u001b[43m,\u001b[49m\u001b[43m \u001b[49m\u001b[43mindex\u001b[49m\u001b[43m,\u001b[49m\u001b[43m \u001b[49m\u001b[43mdtype\u001b[49m\u001b[38;5;241;43m=\u001b[39;49m\u001b[43mdtype\u001b[49m\u001b[43m,\u001b[49m\u001b[43m \u001b[49m\u001b[43mtyp\u001b[49m\u001b[38;5;241;43m=\u001b[39;49m\u001b[43mtyp\u001b[49m\u001b[43m,\u001b[49m\u001b[43m \u001b[49m\u001b[43mconsolidate\u001b[49m\u001b[38;5;241;43m=\u001b[39;49m\u001b[43mcopy\u001b[49m\u001b[43m)\u001b[49m\n",
      "File \u001b[0;32m~/.local/lib/python3.11/site-packages/pandas/core/internals/construction.py:115\u001b[0m, in \u001b[0;36marrays_to_mgr\u001b[0;34m(arrays, columns, index, dtype, verify_integrity, typ, consolidate)\u001b[0m\n\u001b[1;32m    112\u001b[0m \u001b[38;5;28;01mif\u001b[39;00m verify_integrity:\n\u001b[1;32m    113\u001b[0m     \u001b[38;5;66;03m# figure out the index, if necessary\u001b[39;00m\n\u001b[1;32m    114\u001b[0m     \u001b[38;5;28;01mif\u001b[39;00m index \u001b[38;5;129;01mis\u001b[39;00m \u001b[38;5;28;01mNone\u001b[39;00m:\n\u001b[0;32m--> 115\u001b[0m         index \u001b[38;5;241m=\u001b[39m \u001b[43m_extract_index\u001b[49m\u001b[43m(\u001b[49m\u001b[43marrays\u001b[49m\u001b[43m)\u001b[49m\n\u001b[1;32m    116\u001b[0m     \u001b[38;5;28;01melse\u001b[39;00m:\n\u001b[1;32m    117\u001b[0m         index \u001b[38;5;241m=\u001b[39m ensure_index(index)\n",
      "File \u001b[0;32m~/.local/lib/python3.11/site-packages/pandas/core/internals/construction.py:645\u001b[0m, in \u001b[0;36m_extract_index\u001b[0;34m(data)\u001b[0m\n\u001b[1;32m    642\u001b[0m         \u001b[38;5;28;01mraise\u001b[39;00m \u001b[38;5;167;01mValueError\u001b[39;00m(\u001b[38;5;124m\"\u001b[39m\u001b[38;5;124mPer-column arrays must each be 1-dimensional\u001b[39m\u001b[38;5;124m\"\u001b[39m)\n\u001b[1;32m    644\u001b[0m \u001b[38;5;28;01mif\u001b[39;00m \u001b[38;5;129;01mnot\u001b[39;00m indexes \u001b[38;5;129;01mand\u001b[39;00m \u001b[38;5;129;01mnot\u001b[39;00m raw_lengths:\n\u001b[0;32m--> 645\u001b[0m     \u001b[38;5;28;01mraise\u001b[39;00m \u001b[38;5;167;01mValueError\u001b[39;00m(\u001b[38;5;124m\"\u001b[39m\u001b[38;5;124mIf using all scalar values, you must pass an index\u001b[39m\u001b[38;5;124m\"\u001b[39m)\n\u001b[1;32m    647\u001b[0m \u001b[38;5;28;01mif\u001b[39;00m have_series:\n\u001b[1;32m    648\u001b[0m     index \u001b[38;5;241m=\u001b[39m union_indexes(indexes)\n",
      "\u001b[0;31mValueError\u001b[0m: If using all scalar values, you must pass an index"
     ]
    }
   ],
   "source": [
    "# Especifique o número de rodadas que queremos em nosso gráfico (em outras palavras, especifique a rodada atual)\n",
    "Rodadas = 18\n",
    "\n",
    "# Iniciando um dataframe vazio para armazenar nossos dados\n",
    "Dados_Campeonato = pd.DataFrame()\n",
    "\n",
    "# Também queremos armazenar qual motorista dirige para qual equipe, o que nos ajudará mais tarde\n",
    "Equipe_Motorista = {}\n",
    "\n",
    "# Inicie um loop por todas as rodadas\n",
    "for Loop in range(1, Rodadas + 1):\n",
    "    \n",
    "    # Faça uma solicitação ao endpoint driverStandings para a rodada atual\n",
    "    Rodada_Atual = API_Ergast(f'current/{Loop}/driverStandings')\n",
    "    \n",
    "    # Obtenha a classificação a partir do resultado\n",
    "    Classificacao = Rodada_Atual['StandingsTable']['StandingsLists'][0]['DriverStandings']\n",
    "    \n",
    "    # Inicie um dicionário para armazenar a classificação das rodadas atuais\n",
    "    Classificacao_Atual = {'round': Loop}\n",
    "    \n",
    "    # Percorre todos os drivers para coletar suas informações\n",
    "    for Mot in range(len(Classificacao)):\n",
    "        \n",
    "        # Motorista\n",
    "        Motorista = Classificacao[Mot]['Driver']['code']\n",
    "        \n",
    "        # Posição\n",
    "        Posicao = Classificacao[Mot]['position']\n",
    "        \n",
    "        # Armazene a posição dos motoristas\n",
    "        Classificacao_Atual[Motorista] = int(Posicao)\n",
    "        \n",
    "        # Crie um mapeamento para a equipe de pilotos a ser usado para colorir as linhas\n",
    "        Equipe_Motorista[Motorista] = Classificacao[Mot]['Constructors'][0]['name']\n",
    "\n",
    "\n",
    "    # Acrescente a rodada atual ao nosso dataframe fial\n",
    "    Dados_Campeonato = Dados_Campeonato.append(Classificacao_Atual, ignore_index=True)\n",
    "    \n",
    "# Defina a rodada como o índice do dataframe\n",
    "Dados_Campeonato = Dados_Campeonato.set_index('round')"
   ]
  },
  {
   "cell_type": "code",
   "execution_count": 6,
   "id": "fbbedd7d-3aec-44d3-a0ce-a631925c88e6",
   "metadata": {},
   "outputs": [
    {
     "ename": "KeyError",
     "evalue": "\"The following 'id_vars' are not present in the DataFrame: ['round']\"",
     "output_type": "error",
     "traceback": [
      "\u001b[0;31m---------------------------------------------------------------------------\u001b[0m",
      "\u001b[0;31mKeyError\u001b[0m                                  Traceback (most recent call last)",
      "Cell \u001b[0;32mIn[6], line 2\u001b[0m\n\u001b[1;32m      1\u001b[0m \u001b[38;5;66;03m# Acrestar os dados para que possam ser usados como entrada para o gráfico\u001b[39;00m\n\u001b[0;32m----> 2\u001b[0m Dados_Campeonato_Parcial \u001b[38;5;241m=\u001b[39m \u001b[43mpd\u001b[49m\u001b[38;5;241;43m.\u001b[39;49m\u001b[43mmelt\u001b[49m\u001b[43m(\u001b[49m\u001b[43mDados_Campeonato\u001b[49m\u001b[38;5;241;43m.\u001b[39;49m\u001b[43mreset_index\u001b[49m\u001b[43m(\u001b[49m\u001b[43m)\u001b[49m\u001b[43m,\u001b[49m\u001b[43m \u001b[49m\u001b[43m[\u001b[49m\u001b[38;5;124;43m'\u001b[39;49m\u001b[38;5;124;43mround\u001b[39;49m\u001b[38;5;124;43m'\u001b[39;49m\u001b[43m]\u001b[49m\u001b[43m)\u001b[49m\n",
      "File \u001b[0;32m~/.local/lib/python3.11/site-packages/pandas/core/reshape/melt.py:73\u001b[0m, in \u001b[0;36mmelt\u001b[0;34m(frame, id_vars, value_vars, var_name, value_name, col_level, ignore_index)\u001b[0m\n\u001b[1;32m     71\u001b[0m         missing \u001b[38;5;241m=\u001b[39m Index(com\u001b[38;5;241m.\u001b[39mflatten(id_vars))\u001b[38;5;241m.\u001b[39mdifference(cols)\n\u001b[1;32m     72\u001b[0m         \u001b[38;5;28;01mif\u001b[39;00m \u001b[38;5;129;01mnot\u001b[39;00m missing\u001b[38;5;241m.\u001b[39mempty:\n\u001b[0;32m---> 73\u001b[0m             \u001b[38;5;28;01mraise\u001b[39;00m \u001b[38;5;167;01mKeyError\u001b[39;00m(\n\u001b[1;32m     74\u001b[0m                 \u001b[38;5;124m\"\u001b[39m\u001b[38;5;124mThe following \u001b[39m\u001b[38;5;124m'\u001b[39m\u001b[38;5;124mid_vars\u001b[39m\u001b[38;5;124m'\u001b[39m\u001b[38;5;124m are not present \u001b[39m\u001b[38;5;124m\"\u001b[39m\n\u001b[1;32m     75\u001b[0m                 \u001b[38;5;124mf\u001b[39m\u001b[38;5;124m\"\u001b[39m\u001b[38;5;124min the DataFrame: \u001b[39m\u001b[38;5;132;01m{\u001b[39;00m\u001b[38;5;28mlist\u001b[39m(missing)\u001b[38;5;132;01m}\u001b[39;00m\u001b[38;5;124m\"\u001b[39m\n\u001b[1;32m     76\u001b[0m             )\n\u001b[1;32m     77\u001b[0m \u001b[38;5;28;01melse\u001b[39;00m:\n\u001b[1;32m     78\u001b[0m     id_vars \u001b[38;5;241m=\u001b[39m []\n",
      "\u001b[0;31mKeyError\u001b[0m: \"The following 'id_vars' are not present in the DataFrame: ['round']\""
     ]
    }
   ],
   "source": [
    "# Acrestar os dados para que possam ser usados como entrada para o gráfico\n",
    "Dados_Campeonato_Parcial = pd.melt(Dados_Campeonato.reset_index(), ['round'])"
   ]
  },
  {
   "cell_type": "code",
   "execution_count": null,
   "id": "17e6e88b-9a6d-4d93-b291-53e77ec4ea32",
   "metadata": {},
   "outputs": [],
   "source": [
    "Dados_Campeonato"
   ]
  },
  {
   "cell_type": "code",
   "execution_count": null,
   "id": "a03f026c-4bb4-4a85-b953-a361a5b95db0",
   "metadata": {},
   "outputs": [],
   "source": [
    "# Definindo o tamanho do gráfico\n",
    "sns.set(rc={'figure.figsize':(15, 8) })\n",
    "\n",
    "# Iniciando a plotagem\n",
    "fig, ax = plt.subplots()\n",
    "\n",
    "# Definir o titulo do gráfico\n",
    "ax.set_title('2021 Classificação até a 18º rodada', fontsize=18)\n",
    "\n",
    "# Desenhe uma linha para cada piloto nos dados, percorrendo todas as classificações\n",
    "# A razão de fazermos desta forma é para que possamos especificar a cor da equipe por piloto\n",
    "\n",
    "# Loop para cada piloto\n",
    "for driver in pd.unique( Dados_Campeonato_Parcial['variable'] ):\n",
    "    \n",
    "    # Plotar cada motorista\n",
    "    sns.lineplot(\n",
    "        x='round', y='value', \n",
    "        data = Dados_Campeonato_Parcial.loc[ Dados_Campeonato_Parcial['variable']==driver ],\n",
    "    )\n",
    "\n",
    "# Inverta o eixo Y para ter o líder do campeonato (# 1) no topo\n",
    "ax.invert_yaxis()\n",
    "\n",
    "# Defina os valores que aparecem nos eixos x e y\n",
    "ax.set_xticks(range(1, Rodadas))\n",
    "ax.set_yticks(range(1, 22))\n",
    "\n",
    "# Set the labels of the axes\n",
    "ax.set_xlabel('Rodada')\n",
    "ax.set_ylabel('Posição na corrida')\n",
    "\n",
    "# Desabilitar os grid do gráfico\n",
    "ax.grid(False)\n",
    "\n",
    "# Adicione o nome do motorista no final da linha\n",
    "for Linha, Nome in zip( ax.lines, Dados_Campeonato.columns.tolist()):\n",
    "    \n",
    "    # Selecionando a Linhas\n",
    "    y = Linha.get_ydata()[-1]\n",
    "    x = Linha.get_xdata()[-1]\n",
    "    \n",
    "    # Incluino o nome do motorista no final da linha do gráfico\n",
    "    text = ax.annotate(\n",
    "        Nome,\n",
    "        xy=(x + 0.1, y),\n",
    "        xytext=(0, 0),\n",
    "        color=Linha.get_color(),\n",
    "        xycoords=(\n",
    "            ax.get_xaxis_transform(),\n",
    "            ax.get_yaxis_transform()\n",
    "        ),\n",
    "        textcoords='offset points'\n",
    "    )"
   ]
  },
  {
   "cell_type": "code",
   "execution_count": null,
   "id": "286d6991-f76c-4315-bcbc-15da5bf2192b",
   "metadata": {},
   "outputs": [],
   "source": []
  },
  {
   "cell_type": "code",
   "execution_count": null,
   "id": "71910188-de5c-4408-b6a2-1196cd72776d",
   "metadata": {},
   "outputs": [],
   "source": []
  },
  {
   "cell_type": "code",
   "execution_count": null,
   "id": "3185ef9d-bcbd-4449-8859-7378cf42c32a",
   "metadata": {},
   "outputs": [],
   "source": []
  },
  {
   "cell_type": "code",
   "execution_count": null,
   "id": "a9b9f238-5610-4230-b8f4-ce397fe38d34",
   "metadata": {},
   "outputs": [],
   "source": []
  },
  {
   "cell_type": "code",
   "execution_count": null,
   "id": "72774e40-37af-432b-a9bb-6ff84fe730fb",
   "metadata": {},
   "outputs": [],
   "source": []
  },
  {
   "cell_type": "code",
   "execution_count": null,
   "id": "111f08a5-0deb-4dff-94d4-9519daab849f",
   "metadata": {},
   "outputs": [],
   "source": []
  },
  {
   "cell_type": "code",
   "execution_count": null,
   "id": "a802e309-ef4d-43d5-85c5-6053cf94a187",
   "metadata": {},
   "outputs": [],
   "source": []
  }
 ],
 "metadata": {
  "kernelspec": {
   "display_name": "Python 3 (ipykernel)",
   "language": "python",
   "name": "python3"
  },
  "language_info": {
   "codemirror_mode": {
    "name": "ipython",
    "version": 3
   },
   "file_extension": ".py",
   "mimetype": "text/x-python",
   "name": "python",
   "nbconvert_exporter": "python",
   "pygments_lexer": "ipython3",
   "version": "3.11.6"
  }
 },
 "nbformat": 4,
 "nbformat_minor": 5
}
