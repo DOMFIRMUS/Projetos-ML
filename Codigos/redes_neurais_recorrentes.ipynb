{
 "cells": [
  {
   "cell_type": "code",
   "execution_count": 1,
   "id": "2c8fbcbd-3a77-4e68-b843-8f8c5db0d088",
   "metadata": {},
   "outputs": [],
   "source": [
    "#pip install plotly"
   ]
  },
  {
   "cell_type": "code",
   "execution_count": 2,
   "id": "69c8e6e8-4839-44e4-ab95-6f9b50b2093c",
   "metadata": {},
   "outputs": [],
   "source": [
    "#pip install keras"
   ]
  },
  {
   "cell_type": "code",
   "execution_count": 3,
   "id": "c69da09a-38c3-43c6-9e13-61112dc39a1b",
   "metadata": {},
   "outputs": [],
   "source": [
    "#pip install tensorflow"
   ]
  },
  {
   "cell_type": "code",
   "execution_count": 4,
   "id": "751710c5-3252-4a66-9056-cb0dfc352ef3",
   "metadata": {},
   "outputs": [],
   "source": [
    "#pip install mkl"
   ]
  },
  {
   "cell_type": "code",
   "execution_count": 5,
   "id": "b392c0f7-707e-40b2-bfbe-ee6a54e8f7a4",
   "metadata": {},
   "outputs": [],
   "source": [
    "#pip install -c intel mkl"
   ]
  },
  {
   "cell_type": "code",
   "execution_count": 6,
   "id": "8fbeb2d7-a791-44c7-a864-b9956e315a42",
   "metadata": {},
   "outputs": [],
   "source": [
    "# lib para modelagem de dados \n",
    "import pandas as pd"
   ]
  },
  {
   "cell_type": "code",
   "execution_count": 7,
   "id": "a2ec7d8b-2704-471b-8005-e2e102b056a6",
   "metadata": {},
   "outputs": [],
   "source": [
    "# lib para uso de vetores \n",
    "import numpy as np "
   ]
  },
  {
   "cell_type": "code",
   "execution_count": 8,
   "id": "702d604c-3ec4-4d3b-91a0-c7eee1f39657",
   "metadata": {},
   "outputs": [],
   "source": [
    "# lib para funcoes matematicas \n",
    "import math"
   ]
  },
  {
   "cell_type": "code",
   "execution_count": 9,
   "id": "1d3e374a-5419-43ae-8b24-a939218943fc",
   "metadata": {},
   "outputs": [],
   "source": [
    "# lib para visualização gráfica \n",
    "import plotly.graph_objects as Dash"
   ]
  },
  {
   "cell_type": "code",
   "execution_count": null,
   "id": "fc4c62c0-87b7-4c6c-a73e-355456d37a2c",
   "metadata": {},
   "outputs": [],
   "source": [
    "# Libs para uso de machine learing do keras\n",
    "from keras.models import Sequential"
   ]
  },
  {
   "cell_type": "code",
   "execution_count": null,
   "id": "28d49492-53f4-4baa-abb7-d95d4b3dc54e",
   "metadata": {},
   "outputs": [],
   "source": [
    "from keras.layers import Dense, LSTM"
   ]
  },
  {
   "cell_type": "code",
   "execution_count": null,
   "id": "0d9e7688-608c-4e22-9d83-3ba0cbd085db",
   "metadata": {},
   "outputs": [],
   "source": [
    "# lib para pre-processamento\n",
    "from sklearn.preprocessing import MinMaxScaler"
   ]
  },
  {
   "cell_type": "code",
   "execution_count": null,
   "id": "a56283f9-8a0c-46e0-8996-c8e117304859",
   "metadata": {},
   "outputs": [],
   "source": [
    "# Lendo a base de dados \n",
    "base_dados = pd.read_csv('/home/whitehat000142/Documents/Repositorios/Projetos-ML/Dados/TSLA.')"
   ]
  },
  {
   "cell_type": "code",
   "execution_count": null,
   "id": "601b05ed-0cdc-4d1c-b775-1f89e77c447f",
   "metadata": {},
   "outputs": [],
   "source": [
    "# Verificando os primeiros registros \n",
    "base_dados.head()"
   ]
  },
  {
   "cell_type": "code",
   "execution_count": null,
   "id": "242c3d8f-1cee-43f5-a437-a56f2cbf6087",
   "metadata": {},
   "outputs": [],
   "source": [
    "# definir a coluna data como index do dataset\n",
    "base_dados = base_dados.set_index('Date')\n",
    "\n",
    "# retirando qualquer valor nulo existente nos dados\n",
    "base_dados = base_dados.dropna()\n",
    "\n",
    "# verificando\n",
    "base_dados.head()\n"
   ]
  },
  {
   "cell_type": "code",
   "execution_count": null,
   "id": "b7f9e4b8-e7b6-47e3-a61f-24a25f24e1e4",
   "metadata": {},
   "outputs": [],
   "source": [
    "# plotar um gráfico dinâmico \n",
    "# no gráfico é possível filtrar pela legenda a informação \n",
    "# utilizar zooms\n",
    "\n",
    "# definindo uma figura \n",
    "figura = Dash.figure()\n",
    "\n",
    "# incluindo o eixo no gráfico - abertura \n",
    "figura.add_trace(Dash.Scatter(x=base_dados.index,y=base_dados.Open,\n",
    "                             mode='lines',name='abertura',marker_color='#FF7F0E',\n",
    "                             visible='legendonly'))\n",
    "\n",
    "# incluindo o eixo no gráfico - maior \n",
    "figura.add_trace(Dash.Scatter(x=base_dados.index,y=base_dados.High,\n",
    "                             mode='lines',name='maior',marker_color='#2CA02C',\n",
    "                             visible='legendonly'))\n",
    "\n",
    "# incluindo o eixo no gráfico - menor \n",
    "figura.add_trace(Dash.Scatter(x=base_dados.index,y=base_dados.Low,\n",
    "                             mode='lines',name='menor',marker_color='#D62728',\n",
    "                             visible='legendonly'))\n",
    "\n",
    "# Incluindo o eixo no gráfico - fechamento \n",
    "figura.add_trace(Dash.Scatter(x=base_dados.index, y=base_dados.Close,\n",
    "                             mode='lines',name='fechamento',marker_color='#1F77B4'))\n",
    "\n",
    "# modificando o layout do grafico \n",
    "figura.update_layout(title='histórico de preço',titlefont_size=28,\n",
    "                    xaxis=dict(title='historico de preco', titlefont_size=16,\n",
    "                              tickfont_size=14), height=500,\n",
    "                     yaxis=dict(title='preço em rupia indiana',titlefont_size=16,\n",
    "                               tickfont_size=14),\n",
    "                     legend=dict(y=1,x=1,bgcolor='rgba(255,255,255,0)',\n",
    "                                bordercolor='rgba(255,255,255,0)'))\n",
    "\n",
    "# mostrando o gráfico\n",
    "figura.show()\n"
   ]
  },
  {
   "cell_type": "code",
   "execution_count": null,
   "id": "32b68316-9a91-4478-8824-fba3cbefe3cf",
   "metadata": {},
   "outputs": [],
   "source": [
    "# filtrando os dados de fechamento \n",
    "dados_fechamento = base_dados.filter(['Close'])\n",
    "# filtrando apenas os valores\n",
    "dados_fechamento_valores=dados_fechamento.values\n",
    "# arredondando o numero para cima usando o 'math.ceil'\n",
    "dados_fechamento_valores_tamanho = math.ceil(len(dados_fechamento_valores)*0.8)\n",
    "\n",
    "dados_fechamento_valores_tamanho"
   ]
  },
  {
   "cell_type": "code",
   "execution_count": null,
   "id": "14ebe05b-2c5f-4846-9ee6-cf2a7a944681",
   "metadata": {},
   "outputs": [],
   "source": [
    "# # aplicando escalonamento nos dados \n",
    "#definindo os parametros da funcao escalonamento\n",
    "funcao_escalonamento_01 = MinMaxScaler()\n",
    "# aplicando nos dados de fechamento \n",
    "dados_escalonados_fechamento = funcao_escalonamento_01.fit_transform(dados_fechamento_valores)\n",
    "dados_escalonados_fechamento"
   ]
  },
  {
   "cell_type": "code",
   "execution_count": null,
   "id": "db3a6f18-777c-4ef1-a812-64389ad9094a",
   "metadata": {},
   "outputs": [],
   "source": [
    "# definindo os dados de treinamento \n",
    "dados_treino = dados_escalonados_fechamento\n",
    "\n",
    "# listas para receber os dados \n",
    "x_treinamento = []\n",
    "y_treinamento = []\n",
    "\n",
    "# loop para separar os dados de treino e teste \n",
    "# nesse loop vamos separar os dados em blocos de 60 valores \n",
    "for loop in range(60, len(dados_treino)):\n",
    "    #separando os dados de treinamento x \n",
    "    filtrando_amostra_treinamento_x = dados_treino[loop-60:loop,0]\n",
    "    x_treinamento.append(filtrando_amostra_treinamento_x)\n",
    "    #separando os dados de treinamento y\n",
    "    filtrando_amostra_treinamento_y = dados_treino[loop,0]\n",
    "    y_treinamento.append(filtrando_amostra_treinamento_y)"
   ]
  },
  {
   "cell_type": "code",
   "execution_count": null,
   "id": "b0a11fb5-668b-4778-98db-e837c85b7ba5",
   "metadata": {},
   "outputs": [],
   "source": [
    "#transformando listas em um array\n",
    "x_treinamento, y_treinamento = np.array(x_treinamento),np.array(y_treinamento)\n",
    "# convertendo array para matriz \n",
    "x_treinamento = np.reshape(x_treinamento,(x_treinamento.shape[0],x_treinamento.shape[1],1))\n",
    "# verificando a emissão da nossa matriz \n",
    "x_treinamento.shape"
   ]
  },
  {
   "cell_type": "code",
   "execution_count": null,
   "id": "922479d7-f8c5-47e2-8e37-8c9d0764521d",
   "metadata": {},
   "outputs": [],
   "source": [
    "# Definindo a funcao keras\n",
    "# Essa funcao é uma pilha linear de camadas do keras \n",
    "modelo = Sequential()\n",
    "\n",
    "# Adicionando as camadas e parametros para nossa rede neural\n",
    "# Treinamento da rede neural recorrente \n",
    "\n",
    "# LSTM - Long Short Term Memory\n",
    "modelo.add(LSTM(50,return_sequences=True,input_shape=(x_treinamento.shape[1],1)))\n",
    "modelo.add(LSTM(50,return_sequences=False))\n",
    "\n",
    "# adicionando as camadas na rede neural \n",
    "modelo.add(Dense(25))\n",
    "modelo.add(Dense(1))\n",
    "modelo.fit(x_treinamento,y_treinamento,batch_size=1,epochs=1)"
   ]
  },
  {
   "cell_type": "code",
   "execution_count": null,
   "id": "d8d76fbe-863b-4ef9-a5c2-410757ed69e5",
   "metadata": {},
   "outputs": [],
   "source": [
    "# definindo amostra para ser testada \n",
    "dados_teste = dados_escalonados_fechamento[dados_fechamento_valores_tamanho-60:,:]\n",
    "# lista para receber os dados de teste \n",
    "x_teste = []\n",
    "# lista com os dados de teste \n",
    "y_teste = dados_fechamento_valores[dados_fechamento_valores_tamanho,:]\n",
    "\n",
    "# loop para fixar amostra para teste \n",
    "for loop in range(60, len(dados_teste)):\n",
    "    x_teste.append(dados_teste[loop-60:loop,0])\n",
    "\n",
    "# transformando os dados em um array \n",
    "x_teste = np.array(x_teste)\n",
    "# convertendo o array para matriz \n",
    "x_teste = np.reshape(x_teste,(x_teste.shape[0],x_teste.shape[1],1))\n",
    "\n",
    "# aplicando as previsões \n",
    "previsoes = modelo.predict(x_teste)\n",
    "# invertendo para escalas reais \n",
    "previsoes = funcao_escalonamento_01.inverse_transform(previsoes)\n",
    "\n",
    "# calculando o erro quadratico medio \n",
    "rsme = np.sqrt(np.mean(previsoes-y_teste)**2)\n",
    "print(f'Erro quadratico medio:{rsme}')\n"
   ]
  },
  {
   "cell_type": "code",
   "execution_count": null,
   "id": "8ac6b947-3a3d-4dec-9b41-27c222140b67",
   "metadata": {},
   "outputs": [],
   "source": [
    "# atribuindo as previsoes no dataset\n",
    "validacao['previsoes'] = previsoes\n"
   ]
  },
  {
   "cell_type": "code",
   "execution_count": null,
   "id": "fa5ae3c0-dff7-4ab1-a06c-d633c21cb46d",
   "metadata": {},
   "outputs": [],
   "source": [
    "# verificando o real vs modelo\n",
    "validacao['Close','previsoes']].head()"
   ]
  },
  {
   "cell_type": "code",
   "execution_count": null,
   "id": "678e962f-aa04-4a9a-baaa-b421c303ccfa",
   "metadata": {},
   "outputs": [],
   "source": [
    "# criando um grafico dinamico\n",
    "# no grafico é possivel filtrar pela legenda a informaçao \n",
    "# utilizar zoom\n",
    "\n",
    "# definindo uma figura\n",
    "figura = Dash.Figure()\n",
    "\n",
    "# incluindo o eixo no grafico - fechamento \n",
    "figura.add_trace(Dash.Scatter(x=validacao.index,y=validacao.Close,mode='lines',\n",
    "                             name='fechamento',marker_color='#FF7F0E',))\n",
    "\n",
    "# incluindo o eixo no grafico - previsao \n",
    "figura.add_trace(Dash.Scatter(x=validacao.index,y=validacao.previsoes,mode='lines',\n",
    "                             name='previsao',marker_color='#2CA02C',))\n",
    "\n",
    "# Modificando o layout do gráfico \n",
    "figura.update_layout(title='realizado vs modelo',titlefont_size=28,\n",
    "                     xaxis=dict(title='periodo historico',titlefont_size=16,\n",
    "                                tickfont_size=14), height=500,\n",
    "                     yaxis=dict(title='preço em rupia indiana',\n",
    "                               titlefont_size=16,tickfont_size=14),\n",
    "                    legend=dict(y=1,x=1,bgcolor='rgba(255,255,255,0)',\n",
    "                               bordercolor='rgba(255,255,255,0)'))\n",
    "\n",
    "figura.show()\n",
    "\n"
   ]
  },
  {
   "cell_type": "code",
   "execution_count": null,
   "id": "7879cae4-242d-452c-a563-62d4d75f4a7f",
   "metadata": {},
   "outputs": [],
   "source": []
  },
  {
   "cell_type": "code",
   "execution_count": null,
   "id": "b28ab089-4704-4587-87e9-4489e9861bd0",
   "metadata": {},
   "outputs": [],
   "source": []
  },
  {
   "cell_type": "code",
   "execution_count": null,
   "id": "26bcea10-f006-469c-8df5-5aa14fca62cb",
   "metadata": {},
   "outputs": [],
   "source": []
  },
  {
   "cell_type": "code",
   "execution_count": null,
   "id": "a53bfe38-218b-4c9d-b0fd-8a70aa0fb5ea",
   "metadata": {},
   "outputs": [],
   "source": []
  }
 ],
 "metadata": {
  "kernelspec": {
   "display_name": "Python 3 (ipykernel)",
   "language": "python",
   "name": "python3"
  },
  "language_info": {
   "codemirror_mode": {
    "name": "ipython",
    "version": 3
   },
   "file_extension": ".py",
   "mimetype": "text/x-python",
   "name": "python",
   "nbconvert_exporter": "python",
   "pygments_lexer": "ipython3",
   "version": "3.11.5"
  }
 },
 "nbformat": 4,
 "nbformat_minor": 5
}
