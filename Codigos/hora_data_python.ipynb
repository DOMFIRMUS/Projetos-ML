{
 "cells": [
  {
   "cell_type": "code",
   "execution_count": 3,
   "id": "8b32c634-bb9f-4406-b350-076eefcc8755",
   "metadata": {},
   "outputs": [],
   "source": [
    "# bibliotecas para recursos da data\n",
    "import datetime\n",
    "\n",
    "#biblioteca para recursos de calculo de fuso horario\n",
    "import pytz"
   ]
  },
  {
   "cell_type": "code",
   "execution_count": 4,
   "id": "11db829c-70d9-4188-b8e8-bbb8c144ca2c",
   "metadata": {},
   "outputs": [
    {
     "name": "stdout",
     "output_type": "stream",
     "text": [
      "2023-10-08 18:50:30.121433\n"
     ]
    }
   ],
   "source": [
    "# Identificando agora [dia e hora]\n",
    "agora = datetime.datetime.now()\n",
    "print(agora)"
   ]
  },
  {
   "cell_type": "code",
   "execution_count": 5,
   "id": "c7cc8c29-d4d8-4e6c-a19b-6cbca028ee34",
   "metadata": {},
   "outputs": [
    {
     "name": "stdout",
     "output_type": "stream",
     "text": [
      "2023-10-08\n"
     ]
    }
   ],
   "source": [
    "# identificando a data de hoje\n",
    "hoje = datetime.date.today()\n",
    "print(hoje)\n"
   ]
  },
  {
   "cell_type": "code",
   "execution_count": 6,
   "id": "8626960e-e7c3-4508-8340-ed0420355d79",
   "metadata": {},
   "outputs": [
    {
     "name": "stdout",
     "output_type": "stream",
     "text": [
      "ano: 2023\n",
      "mes: 10\n",
      "dia: 8\n"
     ]
    }
   ],
   "source": [
    "# identificando o ano\n",
    "print('ano:',hoje.year)\n",
    "\n",
    "# identificando o mes\n",
    "print('mes:',hoje.month)\n",
    "\n",
    "\n",
    "# identificando o dia\n",
    "print('dia:',hoje.day)\n"
   ]
  },
  {
   "cell_type": "code",
   "execution_count": 7,
   "id": "0d470a58-5660-493c-9a3f-5ed18146130a",
   "metadata": {},
   "outputs": [
    {
     "name": "stdout",
     "output_type": "stream",
     "text": [
      "2021-01-01 00:00:00\n"
     ]
    }
   ],
   "source": [
    "# agrupando valores para virar uma data \n",
    "dia = 1 \n",
    "mes = 1 \n",
    "ano = 2021\n",
    "\n",
    "data_agrupada = datetime.datetime(ano,mes,dia)\n",
    "print(data_agrupada)"
   ]
  },
  {
   "cell_type": "code",
   "execution_count": 8,
   "id": "a82034cb-7f44-4226-824d-714642a39ec0",
   "metadata": {},
   "outputs": [
    {
     "name": "stdout",
     "output_type": "stream",
     "text": [
      "October\n"
     ]
    }
   ],
   "source": [
    "# identificando o mes de uma data \n",
    "identificando_mes = hoje.strftime('%B')\n",
    "print(identificando_mes)"
   ]
  },
  {
   "cell_type": "code",
   "execution_count": 9,
   "id": "337ece4f-76af-4ddf-9278-59a878ba73d9",
   "metadata": {},
   "outputs": [
    {
     "name": "stdout",
     "output_type": "stream",
     "text": [
      "0\n"
     ]
    }
   ],
   "source": [
    "# identificando o dia da semana valor numerico \n",
    "# 0 domingo , 1 segunda...\n",
    "dia_semana_valor = hoje.strftime('%w')\n",
    "print(dia_semana_valor)"
   ]
  },
  {
   "cell_type": "code",
   "execution_count": 10,
   "id": "b02c6c1c-9bbb-4ab6-8b28-8ba8cbbabdfa",
   "metadata": {},
   "outputs": [
    {
     "name": "stdout",
     "output_type": "stream",
     "text": [
      "já se passaram: 281 dias\n"
     ]
    }
   ],
   "source": [
    "# identificando a quantidade de dias do ano \n",
    "dias_ano = hoje.strftime('%j')\n",
    "print(f'já se passaram: {dias_ano} dias')"
   ]
  },
  {
   "cell_type": "code",
   "execution_count": 11,
   "id": "7d4d0244-0d04-4b33-b77b-8499b8c9dcc7",
   "metadata": {},
   "outputs": [
    {
     "name": "stdout",
     "output_type": "stream",
     "text": [
      "já se passaram: 41 semanas\n"
     ]
    }
   ],
   "source": [
    "# identificando o numero da semana do ano \n",
    "semana_ano = hoje.strftime('%U')\n",
    "print(f'já se passaram: {semana_ano} semanas')\n"
   ]
  },
  {
   "cell_type": "code",
   "execution_count": 12,
   "id": "27f4d9bf-746a-47ff-884b-7aa3eda1803c",
   "metadata": {},
   "outputs": [
    {
     "name": "stdout",
     "output_type": "stream",
     "text": [
      "AM\n"
     ]
    }
   ],
   "source": [
    "# identificando se é manhã ou tarde \n",
    "# am - manhã , pm - tarde \n",
    "horario_dia = hoje.strftime('%p')\n",
    "print(horario_dia)"
   ]
  },
  {
   "cell_type": "code",
   "execution_count": 13,
   "id": "6e72544f-cf5e-4770-b02e-719db692d548",
   "metadata": {},
   "outputs": [
    {
     "name": "stdout",
     "output_type": "stream",
     "text": [
      "dia/mes/ano: 08/10/23\n",
      "mes/dia/ano: 10/08/23\n",
      "ano/mes/dia: 23/10/08\n"
     ]
    }
   ],
   "source": [
    "dia_mes_ano = '%d/%m/%y'\n",
    "mes_dia_ano = '%m/%d/%y'\n",
    "ano_mes_dia = '%y/%m/%d'\n",
    "\n",
    "print(f'dia/mes/ano: {hoje.strftime(dia_mes_ano)}')\n",
    "print(f'mes/dia/ano: {hoje.strftime(mes_dia_ano)}')\n",
    "print(f'ano/mes/dia: {hoje.strftime(ano_mes_dia)}')\n"
   ]
  },
  {
   "cell_type": "code",
   "execution_count": 14,
   "id": "a4a4b442-2016-400c-a36e-e53584be864b",
   "metadata": {},
   "outputs": [
    {
     "name": "stdout",
     "output_type": "stream",
     "text": [
      "Nova Iorque: 08/10/23, 17:50:31\n",
      "Londres: 08/10/23, 22:50:31\n",
      "Japão: 09/10/23, 06:50:31\n"
     ]
    }
   ],
   "source": [
    "# formatando para horarios locais mundiais \n",
    "\n",
    "formato = '%d/%m/%y, %H:%M:%S'\n",
    "\n",
    "# gerando o horario de nova iorque\n",
    "local_pais = pytz.timezone('America/New_York')\n",
    "horario_local_novaiork = datetime.datetime.now(local_pais)\n",
    "print(f'Nova Iorque: {horario_local_novaiork.strftime(formato)}')\n",
    "\n",
    "# gerando o horario de londres\n",
    "local_pais = pytz.timezone('Europe/London')\n",
    "horario_local = datetime.datetime.now(local_pais)\n",
    "print(f'Londres: {horario_local.strftime(formato)}')\n",
    "\n",
    "# gerando o horario de Japão\n",
    "local_pais = pytz.timezone('Asia/Tokyo')\n",
    "horario_local = datetime.datetime.now(local_pais)\n",
    "print(f'Japão: {horario_local.strftime(formato)}')"
   ]
  },
  {
   "cell_type": "code",
   "execution_count": 15,
   "id": "40f3363f-4df3-4c2e-9b0c-5310d9d109d3",
   "metadata": {},
   "outputs": [
    {
     "name": "stdout",
     "output_type": "stream",
     "text": [
      "738801\n"
     ]
    }
   ],
   "source": [
    "# convertendo uma data para inteiro\n",
    "data_inteiro = hoje.toordinal()\n",
    "print(data_inteiro)"
   ]
  },
  {
   "cell_type": "code",
   "execution_count": 16,
   "id": "dc1edffa-3015-4a34-a02b-957e05a22236",
   "metadata": {},
   "outputs": [
    {
     "name": "stdout",
     "output_type": "stream",
     "text": [
      "2018-06-06 00:00:00\n",
      "2018-06-06 00:00:00\n",
      "2018-06-06 00:00:00\n"
     ]
    }
   ],
   "source": [
    "# convertendo string para data \n",
    "data_01 = 'wednesday, june 6, 2018'\n",
    "data_02 = '6/6/18'\n",
    "data_03 = '06-06-2018'\n",
    "\n",
    "# define datas as datetime objeto\n",
    "data_01_ajustado = datetime.datetime.strptime(data_01, '%A, %B %d, %Y')\n",
    "data_02_ajustado = datetime.datetime.strptime(data_02, '%m/%d/%y')\n",
    "data_03_ajustado = datetime.datetime.strptime(data_03, '%m-%d-%Y')\n",
    "\n",
    "print(data_01_ajustado)\n",
    "print(data_02_ajustado)\n",
    "print(data_03_ajustado)"
   ]
  },
  {
   "cell_type": "code",
   "execution_count": 17,
   "id": "18a8d727-4064-44c9-b29d-c165a472d165",
   "metadata": {},
   "outputs": [
    {
     "name": "stdout",
     "output_type": "stream",
     "text": [
      "2023-11-22\n",
      "2023-08-14\n",
      "100 dias\n"
     ]
    }
   ],
   "source": [
    "# atribuindo data futuras\n",
    "futuro = datetime.date.fromordinal(hoje.toordinal()+45)\n",
    "print(futuro)\n",
    "\n",
    "# atribuindo datas passadas\n",
    "passado = datetime.date.fromordinal(hoje.toordinal()-55)\n",
    "print(passado)\n",
    "\n",
    "# calculando intervalo de duas datas\n",
    "intervalo = futuro - passado\n",
    "print(f'{intervalo.days} dias')\n"
   ]
  },
  {
   "cell_type": "code",
   "execution_count": 18,
   "id": "c933dbea-0f06-4126-98db-7f4b20d21967",
   "metadata": {},
   "outputs": [
    {
     "name": "stdout",
     "output_type": "stream",
     "text": [
      "hoje é Domingo\n"
     ]
    }
   ],
   "source": [
    "# criando uma regra de dias da semana \n",
    "def dias_semana(numero_semana):\n",
    "    dias = ['Segunda','Terça','Quarta','Quinta','Sexta','Sabado','Domingo']\n",
    "    return dias[numero_semana]\n",
    "\n",
    "numero_semana = int(hoje.weekday())\n",
    "print(f'hoje é {dias_semana(numero_semana)}')"
   ]
  },
  {
   "cell_type": "code",
   "execution_count": 19,
   "id": "efb2782d-9964-4b6b-b1f0-a951108ec995",
   "metadata": {},
   "outputs": [
    {
     "name": "stdout",
     "output_type": "stream",
     "text": [
      "hoje: 18\n",
      "minutos: 50\n"
     ]
    }
   ],
   "source": [
    "# extraindo apenas a hora \n",
    "print(f'hoje: {agora.hour}')\n",
    "\n",
    "# extraindo apenas os minutos \n",
    "print(f'minutos: {agora.minute}')"
   ]
  },
  {
   "cell_type": "code",
   "execution_count": 20,
   "id": "8e0bf4e4-14e9-45a5-991b-4a2032b0d5a2",
   "metadata": {},
   "outputs": [
    {
     "name": "stdout",
     "output_type": "stream",
     "text": [
      "hora temporal 1696801830.121433\n"
     ]
    }
   ],
   "source": [
    "#converter um horário para horario temporal \n",
    "hora_temporal = datetime.datetime.timestamp(agora)\n",
    "print(f'hora temporal {hora_temporal}')"
   ]
  },
  {
   "cell_type": "code",
   "execution_count": 21,
   "id": "cc2dd43d-ed02-48cd-9a07-618fb5d276b4",
   "metadata": {},
   "outputs": [
    {
     "name": "stdout",
     "output_type": "stream",
     "text": [
      "hora convertida: 2024-10-02 03:15:29.187392\n"
     ]
    }
   ],
   "source": [
    "# convertendo hora temporal \n",
    "hora_temporal = 1727849729.187392\n",
    "\n",
    "# converta timestamp para datetime objeto\n",
    "converter = datetime.datetime.fromtimestamp(hora_temporal)\n",
    "print(f'hora convertida: {converter}')"
   ]
  },
  {
   "cell_type": "code",
   "execution_count": 22,
   "id": "c589a314-d917-466f-80d6-a7a0e1c8c243",
   "metadata": {},
   "outputs": [
    {
     "name": "stdout",
     "output_type": "stream",
     "text": [
      "Horario: 09:40:00\n"
     ]
    }
   ],
   "source": [
    "# converter string em hora \n",
    "# ajustando o horario com 12 horas\n",
    "hora_formatada = 'Apr 25 2021 9:40AM'\n",
    "ajustando = datetime.datetime.strptime(hora_formatada, '%b %d %Y %I:%M%p')\n",
    "\n",
    "print(f'Horario: {ajustando.time()}')"
   ]
  },
  {
   "cell_type": "code",
   "execution_count": 23,
   "id": "50cd4dca-c8e1-4f53-acf8-5a528498c5a3",
   "metadata": {},
   "outputs": [
    {
     "name": "stdout",
     "output_type": "stream",
     "text": [
      "Horario: 12:15:27.243860\n"
     ]
    }
   ],
   "source": [
    "# converter string em hora \n",
    "# ajustando o horario com 24 horas \n",
    "\n",
    "hora_formatada_2 = '2018-06-29 12:15:27.243860'\n",
    "ajustando_2 = datetime.datetime.strptime(hora_formatada_2, '%Y-%m-%d %H:%M:%S.%f')\n",
    "\n",
    "print(f'Horario: {ajustando_2.time()}')"
   ]
  },
  {
   "cell_type": "code",
   "execution_count": null,
   "id": "2a9a6bf0-697e-47f8-a83d-837bad014145",
   "metadata": {},
   "outputs": [],
   "source": []
  },
  {
   "cell_type": "code",
   "execution_count": null,
   "id": "32ac8235-a92a-44b2-9780-45ade0b1c248",
   "metadata": {},
   "outputs": [],
   "source": []
  }
 ],
 "metadata": {
  "kernelspec": {
   "display_name": "Python 3 (ipykernel)",
   "language": "python",
   "name": "python3"
  },
  "language_info": {
   "codemirror_mode": {
    "name": "ipython",
    "version": 3
   },
   "file_extension": ".py",
   "mimetype": "text/x-python",
   "name": "python",
   "nbconvert_exporter": "python",
   "pygments_lexer": "ipython3",
   "version": "3.11.6"
  }
 },
 "nbformat": 4,
 "nbformat_minor": 5
}
