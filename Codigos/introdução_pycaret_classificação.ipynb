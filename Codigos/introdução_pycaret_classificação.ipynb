{
 "cells": [
  {
   "cell_type": "code",
   "execution_count": 1,
   "id": "bc1f9096-6269-4cb8-abf0-02186e92a35e",
   "metadata": {},
   "outputs": [],
   "source": [
    "# pip install pycaret"
   ]
  },
  {
   "cell_type": "code",
   "execution_count": 2,
   "id": "b90951dd-4a9c-42be-b448-10d9a70faf6c",
   "metadata": {},
   "outputs": [],
   "source": [
    "# pip install shap"
   ]
  },
  {
   "cell_type": "code",
   "execution_count": 3,
   "id": "95ac5571-8690-44c2-8f44-483c0047d92a",
   "metadata": {},
   "outputs": [],
   "source": [
    "# Libs necessárias\n",
    "import numpy as np\n",
    "import pandas as pd\n",
    "import seaborn as sns"
   ]
  },
  {
   "cell_type": "code",
   "execution_count": 4,
   "id": "7cf499ef-c2f9-49e5-86d4-71c2d02e8f50",
   "metadata": {},
   "outputs": [
    {
     "ename": "ModuleNotFoundError",
     "evalue": "No module named 'pycaret'",
     "output_type": "error",
     "traceback": [
      "\u001b[0;31m---------------------------------------------------------------------------\u001b[0m",
      "\u001b[0;31mModuleNotFoundError\u001b[0m                       Traceback (most recent call last)",
      "Cell \u001b[0;32mIn[4], line 2\u001b[0m\n\u001b[1;32m      1\u001b[0m \u001b[38;5;66;03m# Funções de Classificação\u001b[39;00m\n\u001b[0;32m----> 2\u001b[0m \u001b[38;5;28;01mfrom\u001b[39;00m \u001b[38;5;21;01mpycaret\u001b[39;00m\u001b[38;5;21;01m.\u001b[39;00m\u001b[38;5;21;01mclassification\u001b[39;00m \u001b[38;5;28;01mimport\u001b[39;00m \u001b[38;5;241m*\u001b[39m\n",
      "\u001b[0;31mModuleNotFoundError\u001b[0m: No module named 'pycaret'"
     ]
    }
   ],
   "source": [
    "# Funções de Classificação\n",
    "from pycaret.classification import *"
   ]
  },
  {
   "cell_type": "code",
   "execution_count": null,
   "id": "90bf9be5-2b12-4198-8025-5291127361b9",
   "metadata": {},
   "outputs": [],
   "source": [
    "# Carregar os dados\n",
    "Base_Dados = sns.load_dataset('iris')"
   ]
  },
  {
   "cell_type": "code",
   "execution_count": null,
   "id": "36a57ac4-075b-4bdd-a202-ba412776b77c",
   "metadata": {},
   "outputs": [],
   "source": [
    "# Verificando\n",
    "Base_Dados.head()"
   ]
  },
  {
   "cell_type": "code",
   "execution_count": null,
   "id": "9fdc6f01-2814-4d78-bfba-389528abded1",
   "metadata": {},
   "outputs": [],
   "source": [
    "clf1 = setup(\n",
    "    # Dados\n",
    "    data = Base_Dados,\n",
    "    # Features target\n",
    "    target = 'species',\n",
    "    # Os valores ausentes em recursos numéricos são i\n",
    "    # mputados com o valor 'médio' do recurso no conjunto\n",
    "    # de dados de treinamento.\n",
    "    # A outra opção disponível é 'mediana' ou 'zero'.\n",
    "    numeric_imputation = 'mean',\n",
    "    # Controla a entrada de confirmação de tipos de d\n",
    "    #ados quando setupé executado.\n",
    "    # Ao executar em modo totalmente automatizado\n",
    "    # ou em um kernel remoto, deve ser True.\n",
    "    silent = True)"
   ]
  },
  {
   "cell_type": "code",
   "execution_count": null,
   "id": "7781734f-2c1e-4839-aaa3-8a4542c4c050",
   "metadata": {},
   "outputs": [],
   "source": [
    "compare_models()"
   ]
  },
  {
   "cell_type": "code",
   "execution_count": null,
   "id": "64e1640c-d792-44c7-bb62-5d9377d6c562",
   "metadata": {},
   "outputs": [],
   "source": [
    "Random_Forest = create_model('rf')"
   ]
  },
  {
   "cell_type": "code",
   "execution_count": null,
   "id": "fedc6506-2caf-49ba-b409-8102ef766996",
   "metadata": {},
   "outputs": [],
   "source": [
    "Tuned_Random_Forest = tune_model( Random_Forest )"
   ]
  },
  {
   "cell_type": "code",
   "execution_count": null,
   "id": "6e011f49-4610-474d-9509-a699b0489da0",
   "metadata": {},
   "outputs": [],
   "source": [
    "plot_model(estimator = Tuned_Random_Forest,plot = 'learning')"
   ]
  }
 ],
 "metadata": {
  "kernelspec": {
   "display_name": "Python 3 (ipykernel)",
   "language": "python",
   "name": "python3"
  },
  "language_info": {
   "codemirror_mode": {
    "name": "ipython",
    "version": 3
   },
   "file_extension": ".py",
   "mimetype": "text/x-python",
   "name": "python",
   "nbconvert_exporter": "python",
   "pygments_lexer": "ipython3",
   "version": "3.11.6"
  }
 },
 "nbformat": 4,
 "nbformat_minor": 5
}
