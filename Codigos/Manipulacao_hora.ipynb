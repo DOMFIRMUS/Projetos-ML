{
 "cells": [
  {
   "cell_type": "code",
   "execution_count": 5,
   "id": "b2c97c20",
   "metadata": {},
   "outputs": [],
   "source": [
    "from datetime import datetime"
   ]
  },
  {
   "cell_type": "code",
   "execution_count": 6,
   "id": "31c640e2",
   "metadata": {},
   "outputs": [
    {
     "data": {
      "text/plain": [
       "datetime.datetime(2022, 11, 29, 16, 16, 44, 721206)"
      ]
     },
     "execution_count": 6,
     "metadata": {},
     "output_type": "execute_result"
    }
   ],
   "source": [
    "method = datetime.now()\n",
    "method"
   ]
  },
  {
   "cell_type": "code",
   "execution_count": 7,
   "id": "b9869aab",
   "metadata": {},
   "outputs": [
    {
     "data": {
      "text/plain": [
       "'16:16:44'"
      ]
     },
     "execution_count": 7,
     "metadata": {},
     "output_type": "execute_result"
    }
   ],
   "source": [
    "currenttime = method.strftime(\"%H:%M:%S\")\n",
    "currenttime"
   ]
  },
  {
   "cell_type": "code",
   "execution_count": 8,
   "id": "ffa901dc",
   "metadata": {},
   "outputs": [
    {
     "name": "stdout",
     "output_type": "stream",
     "text": [
      "Hora atual: 16:16:44\n",
      "\n"
     ]
    }
   ],
   "source": [
    "print(f'Hora atual: {currenttime}\\n')"
   ]
  },
  {
   "cell_type": "code",
   "execution_count": null,
   "id": "20b7f1ed",
   "metadata": {},
   "outputs": [],
   "source": []
  }
 ],
 "metadata": {
  "kernelspec": {
   "display_name": "Python 3 (ipykernel)",
   "language": "python",
   "name": "python3"
  },
  "language_info": {
   "codemirror_mode": {
    "name": "ipython",
    "version": 3
   },
   "file_extension": ".py",
   "mimetype": "text/x-python",
   "name": "python",
   "nbconvert_exporter": "python",
   "pygments_lexer": "ipython3",
   "version": "3.11.0"
  }
 },
 "nbformat": 4,
 "nbformat_minor": 5
}
