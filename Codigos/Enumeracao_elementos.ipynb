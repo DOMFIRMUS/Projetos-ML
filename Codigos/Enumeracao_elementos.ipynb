{
 "cells": [
  {
   "cell_type": "code",
   "execution_count": 1,
   "id": "7a9189fc",
   "metadata": {},
   "outputs": [],
   "source": [
    "itens = ['Maria','Fernanda','Cristina','Carol','Roberta']"
   ]
  },
  {
   "cell_type": "code",
   "execution_count": 2,
   "id": "6241af77",
   "metadata": {},
   "outputs": [],
   "source": [
    "lista_gerada = list(enumerate(itens,start=1))"
   ]
  },
  {
   "cell_type": "code",
   "execution_count": 3,
   "id": "d0cd9234",
   "metadata": {},
   "outputs": [
    {
     "name": "stdout",
     "output_type": "stream",
     "text": [
      "[(1, 'Maria'), (2, 'Fernanda'), (3, 'Cristina'), (4, 'Carol'), (5, 'Roberta')]\n"
     ]
    }
   ],
   "source": [
    "print(lista_gerada)"
   ]
  },
  {
   "cell_type": "code",
   "execution_count": null,
   "id": "11198690",
   "metadata": {},
   "outputs": [],
   "source": []
  }
 ],
 "metadata": {
  "kernelspec": {
   "display_name": "Python 3 (ipykernel)",
   "language": "python",
   "name": "python3"
  },
  "language_info": {
   "codemirror_mode": {
    "name": "ipython",
    "version": 3
   },
   "file_extension": ".py",
   "mimetype": "text/x-python",
   "name": "python",
   "nbconvert_exporter": "python",
   "pygments_lexer": "ipython3",
   "version": "3.11.0"
  }
 },
 "nbformat": 4,
 "nbformat_minor": 5
}
