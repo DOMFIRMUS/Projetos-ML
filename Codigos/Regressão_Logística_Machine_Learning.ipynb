{
 "cells": [
  {
   "cell_type": "code",
   "execution_count": 2,
   "id": "dd1c94dd-d4bd-481b-9dc8-854cb20c59ca",
   "metadata": {},
   "outputs": [],
   "source": [
    "#pip install pyod"
   ]
  },
  {
   "cell_type": "code",
   "execution_count": 3,
   "id": "8ce25d92-373b-4a4c-89bb-d2f791466f2a",
   "metadata": {},
   "outputs": [],
   "source": [
    "# Lib para Modelagem de dados\n",
    "import pandas as pd\n",
    "import numpy as np"
   ]
  },
  {
   "cell_type": "code",
   "execution_count": 4,
   "id": "70fbe81e-c414-41b5-ae85-401563e68f8a",
   "metadata": {},
   "outputs": [],
   "source": [
    "# Função para gerar dados\n",
    "from pyod.utils.data import generate_data"
   ]
  },
  {
   "cell_type": "code",
   "execution_count": 5,
   "id": "dc5e509d-78a4-458e-a1d0-7cf63efae763",
   "metadata": {},
   "outputs": [],
   "source": [
    "# Ajuste no Pandas\n",
    "pd.set_option('display.max_columns', 200)\n",
    "pd.set_option('display.max_rows', 200)"
   ]
  },
  {
   "cell_type": "code",
   "execution_count": 6,
   "id": "44e47c57-4667-4a59-9316-8da7b88ba2b3",
   "metadata": {},
   "outputs": [],
   "source": [
    "# Gerar dados aleatórios com 2 eixos\n",
    "Dados_X, Dados_Y = generate_data( n_train=1000,train_only=True, n_features=2 )"
   ]
  },
  {
   "cell_type": "code",
   "execution_count": 7,
   "id": "be72ad71-0415-43f1-9033-0207fd56f4ae",
   "metadata": {},
   "outputs": [],
   "source": [
    "# Seprar os valores em 2 eixo e ajustar o eixo\n",
    "Eixo_X = Dados_X[:,[0] ].reshape(-1, 1)\n",
    "Eixo_Y = Dados_X[:,[1] ].reshape(-1, 1)"
   ]
  },
  {
   "cell_type": "code",
   "execution_count": 8,
   "id": "1bf45ebc-6267-4ba5-b9bb-506a589f6dc4",
   "metadata": {},
   "outputs": [
    {
     "data": {
      "text/html": [
       "<div>\n",
       "<style scoped>\n",
       "    .dataframe tbody tr th:only-of-type {\n",
       "        vertical-align: middle;\n",
       "    }\n",
       "\n",
       "    .dataframe tbody tr th {\n",
       "        vertical-align: top;\n",
       "    }\n",
       "\n",
       "    .dataframe thead th {\n",
       "        text-align: right;\n",
       "    }\n",
       "</style>\n",
       "<table border=\"1\" class=\"dataframe\">\n",
       "  <thead>\n",
       "    <tr style=\"text-align: right;\">\n",
       "      <th></th>\n",
       "      <th>Eixo X</th>\n",
       "      <th>Eixo Y</th>\n",
       "      <th>Classe</th>\n",
       "    </tr>\n",
       "  </thead>\n",
       "  <tbody>\n",
       "    <tr>\n",
       "      <th>0</th>\n",
       "      <td>1.094969</td>\n",
       "      <td>1.239882</td>\n",
       "      <td>0.0</td>\n",
       "    </tr>\n",
       "    <tr>\n",
       "      <th>1</th>\n",
       "      <td>1.434671</td>\n",
       "      <td>0.770330</td>\n",
       "      <td>0.0</td>\n",
       "    </tr>\n",
       "    <tr>\n",
       "      <th>2</th>\n",
       "      <td>1.293058</td>\n",
       "      <td>1.879322</td>\n",
       "      <td>0.0</td>\n",
       "    </tr>\n",
       "    <tr>\n",
       "      <th>3</th>\n",
       "      <td>0.832807</td>\n",
       "      <td>-0.208573</td>\n",
       "      <td>0.0</td>\n",
       "    </tr>\n",
       "    <tr>\n",
       "      <th>4</th>\n",
       "      <td>2.300649</td>\n",
       "      <td>2.118754</td>\n",
       "      <td>0.0</td>\n",
       "    </tr>\n",
       "  </tbody>\n",
       "</table>\n",
       "</div>"
      ],
      "text/plain": [
       "     Eixo X    Eixo Y  Classe\n",
       "0  1.094969  1.239882     0.0\n",
       "1  1.434671  0.770330     0.0\n",
       "2  1.293058  1.879322     0.0\n",
       "3  0.832807 -0.208573     0.0\n",
       "4  2.300649  2.118754     0.0"
      ]
     },
     "execution_count": 8,
     "metadata": {},
     "output_type": "execute_result"
    }
   ],
   "source": [
    "# Criar uma Tabela\n",
    "Tabela = pd.DataFrame( Eixo_X, columns=['Eixo X'])\n",
    "Tabela['Eixo Y'] = Eixo_Y\n",
    "Tabela['Classe'] = Dados_Y\n",
    "# Verificando\n",
    "Tabela.head()"
   ]
  },
  {
   "cell_type": "code",
   "execution_count": 9,
   "id": "e050cb27-8ecf-4402-9b3d-ca9bb50d1eb0",
   "metadata": {},
   "outputs": [],
   "source": [
    "# Separa os dados\n",
    "# Separando a base de dados\n",
    "Variaveis_Caracteristica = Tabela.drop( columns='Classe' )\n",
    "Variaveil_Prever = Tabela['Classe']"
   ]
  },
  {
   "cell_type": "code",
   "execution_count": 10,
   "id": "d39461db-8611-46ef-9576-b1256575ccb2",
   "metadata": {},
   "outputs": [],
   "source": [
    "# Importando a função para separar os dados de Treino e Teste\n",
    "from sklearn.model_selection import train_test_split"
   ]
  },
  {
   "cell_type": "code",
   "execution_count": 11,
   "id": "fde10415-9b75-42ee-8c00-5d5dab8cc3d1",
   "metadata": {},
   "outputs": [
    {
     "name": "stdout",
     "output_type": "stream",
     "text": [
      "Divisão dos dados\n",
      "Dados de Treino:  800\n",
      "Dados de Teste:  200 \n",
      "\n"
     ]
    }
   ],
   "source": [
    "# Separando os dados\n",
    "x_treino, x_teste, y_treino, y_teste = train_test_split(Variaveis_Caracteristica, Variaveil_Prever,test_size=0.20, random_state=10 )\n",
    "print('Divisão dos dados')\n",
    "print('Dados de Treino: ', len(x_treino) )\n",
    "print('Dados de Teste: ', len(x_teste), '\\n' )"
   ]
  },
  {
   "cell_type": "code",
   "execution_count": 12,
   "id": "3ee2baac-1ad7-4330-95f1-8948904ca764",
   "metadata": {},
   "outputs": [],
   "source": [
    "# Criar o model\n",
    "from sklearn.linear_model import LogisticRegression"
   ]
  },
  {
   "cell_type": "code",
   "execution_count": 13,
   "id": "4bf7e742-a001-495f-bfe9-5d2ca9d7acd8",
   "metadata": {},
   "outputs": [
    {
     "name": "stdout",
     "output_type": "stream",
     "text": [
      "Score do modelo:  0.935 \n",
      "\n"
     ]
    }
   ],
   "source": [
    "# Instanciando o modelo\n",
    "Funcao_Logistica = LogisticRegression()\n",
    "Funcao_Logistica.fit( x_treino, y_treino )\n",
    "print('Score do modelo: ', ( Funcao_Logistica.score(x_treino, y_treino) ), '\\n' )"
   ]
  },
  {
   "cell_type": "code",
   "execution_count": 14,
   "id": "d218d39b-321d-4285-95fb-fa27930f01cf",
   "metadata": {},
   "outputs": [],
   "source": [
    "# Precisões do modelo\n",
    "Previsoes = Funcao_Logistica.predict( x_teste )"
   ]
  },
  {
   "cell_type": "code",
   "execution_count": 15,
   "id": "86930954-b22e-4a0d-87fb-69974a4e9012",
   "metadata": {},
   "outputs": [
    {
     "name": "stdout",
     "output_type": "stream",
     "text": [
      "Matriz de Confusão: \n",
      " [[175   3]\n",
      " [  9  13]] \n",
      "\n"
     ]
    }
   ],
   "source": [
    "# Matriz de Confusão\n",
    "from sklearn.metrics import confusion_matrix\n",
    "print('Matriz de Confusão: \\n', confusion_matrix( y_teste, Previsoes ), '\\n' )"
   ]
  },
  {
   "cell_type": "code",
   "execution_count": 16,
   "id": "98d26f55-dd7b-4392-8a0f-2f2c45d69d16",
   "metadata": {},
   "outputs": [
    {
     "name": "stdout",
     "output_type": "stream",
     "text": [
      "Acurácia do modelo: \n",
      " 0.94\n"
     ]
    }
   ],
   "source": [
    "from sklearn.metrics import accuracy_score\n",
    "print('Acurácia do modelo: \\n', accuracy_score( y_teste, Previsoes))"
   ]
  }
 ],
 "metadata": {
  "kernelspec": {
   "display_name": "Python 3 (ipykernel)",
   "language": "python",
   "name": "python3"
  },
  "language_info": {
   "codemirror_mode": {
    "name": "ipython",
    "version": 3
   },
   "file_extension": ".py",
   "mimetype": "text/x-python",
   "name": "python",
   "nbconvert_exporter": "python",
   "pygments_lexer": "ipython3",
   "version": "3.11.6"
  }
 },
 "nbformat": 4,
 "nbformat_minor": 5
}
